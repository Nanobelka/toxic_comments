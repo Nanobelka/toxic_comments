{
 "cells": [
  {
   "cell_type": "markdown",
   "id": "0f19e804",
   "metadata": {},
   "source": [
    "# Классификация текстов на позитивные и негативные\n",
    "\n",
    "---\n",
    "\n",
    "**Входные данные**\n",
    "\n",
    "Набор текстов с разметкой о токсичности.\n",
    "\n",
    "---\n",
    "\n",
    "**Цель**\n",
    "\n",
    "Создать модель для классификации текстов на позитивные и негативные.\n",
    "\n",
    "---\n",
    "\n",
    "**Задачи:**  \n",
    "\n",
    "- проверить качество разметки данных;\n",
    "- сделать обработку текстов, удалив из них лишнюю информацию (служебные данные, знаки препинания и т. п.);\n",
    "- построить пайплайн с использованием TfidfVectorizer();  \n",
    "- учесть в пайплайне возможность обработки дополнительных признаков;\n",
    "- построить несколько различных моделей;\n",
    "- выбрать лучшую модель;\n",
    "- оценить качество моделей по дополнительным метрикам;\n",
    "- сделать контрольную проверку на тестовой выборке;\n",
    "- сформулировать рекомендации для дальнейшего развития проекта."
   ]
  },
  {
   "cell_type": "markdown",
   "id": "19c1c97a",
   "metadata": {
    "toc": true
   },
   "source": [
    "<h1>Contents<span class=\"tocSkip\"></span></h1>\n",
    "<div class=\"toc\"><ul class=\"toc-item\"><li><span><a href=\"#Intro\" data-toc-modified-id=\"Intro-0\"><span class=\"toc-item-num\">0&nbsp;&nbsp;</span>Intro</a></span></li><li><span><a href=\"#Initial\" data-toc-modified-id=\"Initial-1\"><span class=\"toc-item-num\">1&nbsp;&nbsp;</span>Initial</a></span><ul class=\"toc-item\"><li><span><a href=\"#Imports\" data-toc-modified-id=\"Imports-1.1\"><span class=\"toc-item-num\">1.1&nbsp;&nbsp;</span>Imports</a></span></li><li><span><a href=\"#Constants\" data-toc-modified-id=\"Constants-1.2\"><span class=\"toc-item-num\">1.2&nbsp;&nbsp;</span>Constants</a></span></li><li><span><a href=\"#Functions\" data-toc-modified-id=\"Functions-1.3\"><span class=\"toc-item-num\">1.3&nbsp;&nbsp;</span>Functions</a></span></li><li><span><a href=\"#Settings\" data-toc-modified-id=\"Settings-1.4\"><span class=\"toc-item-num\">1.4&nbsp;&nbsp;</span>Settings</a></span></li></ul></li><li><span><a href=\"#Read-and-Check-data\" data-toc-modified-id=\"Read-and-Check-data-2\"><span class=\"toc-item-num\">2&nbsp;&nbsp;</span>Read and Check data</a></span><ul class=\"toc-item\"><li><span><a href=\"#Read-data\" data-toc-modified-id=\"Read-data-2.1\"><span class=\"toc-item-num\">2.1&nbsp;&nbsp;</span>Read data</a></span></li><li><span><a href=\"#Небольшие-улучшения-данных\" data-toc-modified-id=\"Небольшие-улучшения-данных-2.2\"><span class=\"toc-item-num\">2.2&nbsp;&nbsp;</span>Небольшие улучшения данных</a></span></li><li><span><a href=\"#Проверка-корректности-разметки-данных\" data-toc-modified-id=\"Проверка-корректности-разметки-данных-2.3\"><span class=\"toc-item-num\">2.3&nbsp;&nbsp;</span>Проверка корректности разметки данных</a></span><ul class=\"toc-item\"><li><span><a href=\"#Употребление-восклицательного-знака\" data-toc-modified-id=\"Употребление-восклицательного-знака-2.3.1\"><span class=\"toc-item-num\">2.3.1&nbsp;&nbsp;</span>Употребление восклицательного знака</a></span></li><li><span><a href=\"#Употребление-вопросительного-знака\" data-toc-modified-id=\"Употребление-вопросительного-знака-2.3.2\"><span class=\"toc-item-num\">2.3.2&nbsp;&nbsp;</span>Употребление вопросительного знака</a></span></li><li><span><a href=\"#Употребление-заглавных-букв\" data-toc-modified-id=\"Употребление-заглавных-букв-2.3.3\"><span class=\"toc-item-num\">2.3.3&nbsp;&nbsp;</span>Употребление заглавных букв</a></span></li></ul></li><li><span><a href=\"#Небольшие-улучшения-данных-(продолжение)\" data-toc-modified-id=\"Небольшие-улучшения-данных-(продолжение)-2.4\"><span class=\"toc-item-num\">2.4&nbsp;&nbsp;</span>Небольшие улучшения данных (продолжение)</a></span></li></ul></li><li><span><a href=\"#Подготовка-данных\" data-toc-modified-id=\"Подготовка-данных-3\"><span class=\"toc-item-num\">3&nbsp;&nbsp;</span>Подготовка данных</a></span><ul class=\"toc-item\"><li><span><a href=\"#Очистка,-токенизация,-лемматизация\" data-toc-modified-id=\"Очистка,-токенизация,-лемматизация-3.1\"><span class=\"toc-item-num\">3.1&nbsp;&nbsp;</span>Очистка, токенизация, лемматизация</a></span></li><li><span><a href=\"#Выделение-признаков-и-целевой-переменной\" data-toc-modified-id=\"Выделение-признаков-и-целевой-переменной-3.2\"><span class=\"toc-item-num\">3.2&nbsp;&nbsp;</span>Выделение признаков и целевой переменной</a></span></li><li><span><a href=\"#Разделение-на-обучающую-и-валидационную-выборки\" data-toc-modified-id=\"Разделение-на-обучающую-и-валидационную-выборки-3.3\"><span class=\"toc-item-num\">3.3&nbsp;&nbsp;</span>Разделение на обучающую и валидационную выборки</a></span></li></ul></li><li><span><a href=\"#Model\" data-toc-modified-id=\"Model-4\"><span class=\"toc-item-num\">4&nbsp;&nbsp;</span>Model</a></span><ul class=\"toc-item\"><li><span><a href=\"#Preprocessing\" data-toc-modified-id=\"Preprocessing-4.1\"><span class=\"toc-item-num\">4.1&nbsp;&nbsp;</span>Preprocessing</a></span><ul class=\"toc-item\"><li><span><a href=\"#Селекторы-числовых-и-категориальных-признаков\" data-toc-modified-id=\"Селекторы-числовых-и-категориальных-признаков-4.1.1\"><span class=\"toc-item-num\">4.1.1&nbsp;&nbsp;</span>Селекторы числовых и категориальных признаков</a></span></li><li><span><a href=\"#Предбработка-числовых-признаков\" data-toc-modified-id=\"Предбработка-числовых-признаков-4.1.2\"><span class=\"toc-item-num\">4.1.2&nbsp;&nbsp;</span>Предбработка числовых признаков</a></span></li><li><span><a href=\"#Предбработка-текста\" data-toc-modified-id=\"Предбработка-текста-4.1.3\"><span class=\"toc-item-num\">4.1.3&nbsp;&nbsp;</span>Предбработка текста</a></span></li><li><span><a href=\"#Объединение-предобработки-текста-и-числовых-признаков\" data-toc-modified-id=\"Объединение-предобработки-текста-и-числовых-признаков-4.1.4\"><span class=\"toc-item-num\">4.1.4&nbsp;&nbsp;</span>Объединение предобработки текста и числовых признаков</a></span></li><li><span><a href=\"#Pipelines'-table\" data-toc-modified-id=\"Pipelines'-table-4.1.5\"><span class=\"toc-item-num\">4.1.5&nbsp;&nbsp;</span>Pipelines' table</a></span></li></ul></li><li><span><a href=\"#Подбор-гиперпараметров\" data-toc-modified-id=\"Подбор-гиперпараметров-4.2\"><span class=\"toc-item-num\">4.2&nbsp;&nbsp;</span>Подбор гиперпараметров</a></span><ul class=\"toc-item\"><li><span><a href=\"#Objective-functions-для-Optuna\" data-toc-modified-id=\"Objective-functions-для-Optuna-4.2.1\"><span class=\"toc-item-num\">4.2.1&nbsp;&nbsp;</span>Objective functions для Optuna</a></span></li><li><span><a href=\"#Optuna-call\" data-toc-modified-id=\"Optuna-call-4.2.2\"><span class=\"toc-item-num\">4.2.2&nbsp;&nbsp;</span>Optuna call</a></span></li><li><span><a href=\"#Визуализация-результатов-подбора-гиперпараметров\" data-toc-modified-id=\"Визуализация-результатов-подбора-гиперпараметров-4.2.3\"><span class=\"toc-item-num\">4.2.3&nbsp;&nbsp;</span>Визуализация результатов подбора гиперпараметров</a></span></li></ul></li></ul></li><li><span><a href=\"#Анализ-моделей\" data-toc-modified-id=\"Анализ-моделей-5\"><span class=\"toc-item-num\">5&nbsp;&nbsp;</span>Анализ моделей</a></span><ul class=\"toc-item\"><li><span><a href=\"#Additional-metrics\" data-toc-modified-id=\"Additional-metrics-5.1\"><span class=\"toc-item-num\">5.1&nbsp;&nbsp;</span>Additional metrics</a></span></li><li><span><a href=\"#Confusion-Matrix-Display\" data-toc-modified-id=\"Confusion-Matrix-Display-5.2\"><span class=\"toc-item-num\">5.2&nbsp;&nbsp;</span>Confusion Matrix Display</a></span></li><li><span><a href=\"#Class-Prediction-Error\" data-toc-modified-id=\"Class-Prediction-Error-5.3\"><span class=\"toc-item-num\">5.3&nbsp;&nbsp;</span>Class Prediction Error</a></span></li><li><span><a href=\"#Выбор-лучшей-модели\" data-toc-modified-id=\"Выбор-лучшей-модели-5.4\"><span class=\"toc-item-num\">5.4&nbsp;&nbsp;</span>Выбор лучшей модели</a></span></li></ul></li><li><span><a href=\"#Вывод\" data-toc-modified-id=\"Вывод-6\"><span class=\"toc-item-num\">6&nbsp;&nbsp;</span>Вывод</a></span><ul class=\"toc-item\"><li><span><a href=\"#Краткий-обзор-проделанной-работы\" data-toc-modified-id=\"Краткий-обзор-проделанной-работы-6.1\"><span class=\"toc-item-num\">6.1&nbsp;&nbsp;</span>Краткий обзор проделанной работы</a></span></li><li><span><a href=\"#Проверка-и-подготовка-данных\" data-toc-modified-id=\"Проверка-и-подготовка-данных-6.2\"><span class=\"toc-item-num\">6.2&nbsp;&nbsp;</span>Проверка и подготовка данных</a></span></li><li><span><a href=\"#Моделирование\" data-toc-modified-id=\"Моделирование-6.3\"><span class=\"toc-item-num\">6.3&nbsp;&nbsp;</span>Моделирование</a></span></li><li><span><a href=\"#Риски-и-рекомендации\" data-toc-modified-id=\"Риски-и-рекомендации-6.4\"><span class=\"toc-item-num\">6.4&nbsp;&nbsp;</span>Риски и рекомендации</a></span></li></ul></li></ul></div>"
   ]
  },
  {
   "cell_type": "markdown",
   "id": "a5d94030",
   "metadata": {},
   "source": [
    "---"
   ]
  },
  {
   "cell_type": "markdown",
   "id": "782fee2d",
   "metadata": {
    "tags": []
   },
   "source": [
    "## Intro"
   ]
  },
  {
   "cell_type": "markdown",
   "id": "64d3b239",
   "metadata": {},
   "source": [
    "**Пояснения**\n",
    "\n",
    "---\n",
    "\n",
    "Постоянные таблицы с данными начинаются со слова **data** .  \n",
    "Временные таблицы с данными начинаются со слова **df** .  \n",
    "\n",
    "---\n",
    "\n",
    "Код ячеек максимально независим друг от друга, чтобы свободно манипулировать ячейками.\n",
    "\n",
    "---\n",
    "\n",
    "Промежуточные выводы выделены так:\n",
    "\n",
    "> Промежуточный вывод."
   ]
  },
  {
   "cell_type": "markdown",
   "id": "ae7325b3",
   "metadata": {},
   "source": [
    "---"
   ]
  },
  {
   "cell_type": "markdown",
   "id": "bb9072f2",
   "metadata": {
    "tags": []
   },
   "source": [
    "## Initial"
   ]
  },
  {
   "cell_type": "markdown",
   "id": "f5cef155",
   "metadata": {},
   "source": [
    "### Imports"
   ]
  },
  {
   "cell_type": "code",
   "execution_count": 1,
   "id": "9c0bf8a2",
   "metadata": {},
   "outputs": [],
   "source": [
    "import pandas as pd\n",
    "import numpy as np\n",
    "\n",
    "import os\n",
    "import json\n",
    "import re\n",
    "import warnings\n",
    "import joblib\n",
    "from tqdm.notebook import tqdm\n",
    "tqdm.pandas()  # новая фишка, оставил пока здесь, чтобы не забыть\n",
    "\n",
    "import matplotlib.pyplot as plt\n",
    "import seaborn as sns\n",
    "from matplotlib.colors import LinearSegmentedColormap\n",
    "import plotly.graph_objects as go\n",
    "import plotly.io as pio\n",
    "\n",
    "from nltk.tokenize import TweetTokenizer\n",
    "from nltk.stem import WordNetLemmatizer\n",
    "from nltk.corpus import stopwords\n",
    "\n",
    "from sklearn.base import BaseEstimator, TransformerMixin\n",
    "from sklearn.feature_extraction.text import TfidfVectorizer\n",
    "\n",
    "from sklearn.compose import ColumnTransformer, make_column_transformer, make_column_selector\n",
    "from sklearn.preprocessing import StandardScaler, OrdinalEncoder, OneHotEncoder, SplineTransformer, FunctionTransformer\n",
    "\n",
    "from sklearn.model_selection import train_test_split, cross_val_score, StratifiedKFold\n",
    "from sklearn.pipeline import Pipeline, make_pipeline, FeatureUnion\n",
    "\n",
    "from sklearn.dummy import DummyClassifier\n",
    "from sklearn.linear_model import RidgeClassifier, SGDClassifier, LogisticRegression\n",
    "from sklearn.svm import LinearSVC\n",
    "from xgboost import XGBClassifier\n",
    "\n",
    "import optuna\n",
    "from optuna.distributions import FloatDistribution, IntDistribution, CategoricalDistribution\n",
    "\n",
    "from sklearn.metrics import f1_score, ConfusionMatrixDisplay\n",
    "from yellowbrick.classifier import PrecisionRecallCurve, ClassPredictionError, ROCAUC"
   ]
  },
  {
   "cell_type": "markdown",
   "id": "7c9327a4",
   "metadata": {},
   "source": [
    "### Constants"
   ]
  },
  {
   "cell_type": "code",
   "execution_count": 2,
   "id": "b21a8818",
   "metadata": {},
   "outputs": [],
   "source": [
    "# common constants\n",
    "\n",
    "PATH_LOCAL = 'datasets/'                               # local path to data\n",
    "PATH_REMOTE = '/datasets/'                             # remote path to data\n",
    "CR = '\\n'                                              # new line\n",
    "RS = RANDOM_STATE = RANDOM_SEED = 88                   # random_state"
   ]
  },
  {
   "cell_type": "code",
   "execution_count": 3,
   "id": "13e07bee",
   "metadata": {},
   "outputs": [],
   "source": [
    "# model\n",
    "\n",
    "TARGET = 'toxic'                                       # target name\n",
    "SCORING = 'f1'                                         # target metric\n",
    "VALID_FRAC = 0.3                                       # delayed sampling fraction\n",
    "N_CV = 10                                              # number of folds during cross-validation\n",
    "\n",
    "N_TRIALS = 100                                         # max of tries when Optuna optimization run\n",
    "TIMEOUT = 600                                          # max time when Optuna optimization run"
   ]
  },
  {
   "cell_type": "code",
   "execution_count": 4,
   "id": "ffc51fe4",
   "metadata": {},
   "outputs": [],
   "source": [
    "# estimators list (comment/uncomment estimator to skip/use)\n",
    "\n",
    "ESTIMATOR_LIST = [\n",
    "#                   'DummyClassifier',\n",
    "                  'LogisticRegression',\n",
    "                  'RidgeClassifier',\n",
    "                  'SGDClassifier',\n",
    "                  'LinearSVC',\n",
    "#                   'XGBClassifier',\n",
    "                 ]"
   ]
  },
  {
   "cell_type": "markdown",
   "id": "c3161820",
   "metadata": {},
   "source": [
    "### Functions"
   ]
  },
  {
   "cell_type": "code",
   "execution_count": 5,
   "id": "a8068b9c",
   "metadata": {},
   "outputs": [],
   "source": [
    "def custom_read_csv(file_name, separator=','):\n",
    "    '''\n",
    "    reading dataset of .csv format:\n",
    "       first from local storage;\n",
    "       if unsuccessful from remote storage.\n",
    "    '''\n",
    "\n",
    "    path_local = f'{PATH_LOCAL}{file_name}'\n",
    "    path_remote = f'{PATH_REMOTE}{file_name}'\n",
    "    \n",
    "    if os.path.exists(path_local):\n",
    "        return pd.read_csv(path_local, sep=separator)\n",
    "\n",
    "    elif os.path.exists(path_remote):\n",
    "        return pd.read_csv(path_remote, sep=separator)\n",
    "\n",
    "    else:\n",
    "        print(f'File \"{file_name}\" not found at the specified path ')"
   ]
  },
  {
   "cell_type": "code",
   "execution_count": 6,
   "id": "6bc6110a",
   "metadata": {},
   "outputs": [],
   "source": [
    "def var_name(var):\n",
    "    '''\n",
    "    var name determination\n",
    "    '''\n",
    "    return [name for name in globals() if globals()[name] is var][0]"
   ]
  },
  {
   "cell_type": "code",
   "execution_count": 7,
   "id": "8f12b07e",
   "metadata": {},
   "outputs": [],
   "source": [
    "def basic_info(df: pd.DataFrame, sample_type='sample', samples=5, describe='all'):\n",
    "    '''\n",
    "    first info about dataframe: info(), sample()/head()/tail(), describe()\n",
    "    '''\n",
    "    \n",
    "    # title (name of dataframe)\n",
    "    \n",
    "    print(f'\\n\\n {f.BOLD}{var_name(df)}{f.END}', '≋'*30)\n",
    "\n",
    "\n",
    "    # method info()\n",
    "    \n",
    "    print('\\n\\n--- method info() ---\\n')\n",
    "    print(df.info())\n",
    "\n",
    "    \n",
    "    # several random records\n",
    "    \n",
    "    print(f'\\n\\n--- method {sample_type}({samples}) ---')\n",
    "    \n",
    "    if sample_type == 'sample':\n",
    "        display(df.sample(samples))\n",
    "    elif sample_type == 'head':\n",
    "        display(df.head(samples))\n",
    "    elif sample_type == 'tail':\n",
    "        display(df.tail(samples))\n",
    "    else:\n",
    "        print(f'{sample_type} – invalid value for parameter \"sample_type\" ')\n",
    "    \n",
    "    \n",
    "    # method describe()\n",
    "    \n",
    "    print(f'\\n\\n--- method describe({describe}) ---')\n",
    "    \n",
    "    if describe=='all' or describe=='numeric':\n",
    "        try:\n",
    "            display(df.describe(include=np.number))\n",
    "        except ValueError:\n",
    "            pass\n",
    "\n",
    "    if describe=='all' or describe=='categorical':\n",
    "        try:\n",
    "            display(df.describe(exclude=np.number).T)\n",
    "        except ValueError:\n",
    "            pass\n",
    "    \n",
    "    if describe not in ['numeric','categorical','all']:\n",
    "        print(f'{describe} – invalid value for parameter \"describe\" ')"
   ]
  },
  {
   "cell_type": "code",
   "execution_count": 8,
   "id": "6de89763",
   "metadata": {},
   "outputs": [],
   "source": [
    "def plot_Optuna(study, plot_kind='plot_slice', model_name=''):\n",
    "    '''\n",
    "    Дополнительная настройка оригинальных графиков Optuna.\n",
    "    Например, на графике `plot_slice` изначально цвет точек зависел от номера итерации.\n",
    "    Теперь они все одинакового цвета и полупрозрачные, лучше видны скопления точек.\n",
    "    \n",
    "    study: обученный объект класса OptunaSearchCV\n",
    "    plot_kind: тип графика Optuna\n",
    "    model_name: название модели\n",
    "    '''\n",
    "    \n",
    "    if plot_kind == 'plot_slice':\n",
    "        fig = optuna.visualization.plot_slice(study)\n",
    "        fig.update_traces(\n",
    "                          marker_color='Darkgrey',\n",
    "                          marker_size=3,\n",
    "                          marker_opacity=0.2,\n",
    "                          marker_line_width=1,\n",
    "                          marker_line_color='Black',\n",
    "                         )\n",
    "    \n",
    "    elif plot_kind == 'plot_param_importances':\n",
    "        fig = optuna.visualization.plot_param_importances(study)\n",
    "        \n",
    "    elif plot_kind == 'plot_optimization_history':\n",
    "        fig = optuna.visualization.plot_optimization_history(study)\n",
    "        fig.update_traces(\n",
    "                          marker_size=5,\n",
    "                          marker_opacity=0.3,\n",
    "                          marker_line_width=1,\n",
    "                          marker_line_color='Black',\n",
    "                         )\n",
    "\n",
    "    fig.update_layout(\n",
    "                      title_text=model_name,\n",
    "                      title_x=0,\n",
    "                      font_size=10,\n",
    "                     )    \n",
    "    fig.show()"
   ]
  },
  {
   "cell_type": "code",
   "execution_count": 9,
   "id": "8870df5a",
   "metadata": {},
   "outputs": [],
   "source": [
    "def add_model_metrics(models, X_train, Y_train, X_valid, Y_valid, cv=N_CV, scoring_list=['f1'], verbose=True):\n",
    "    '''\n",
    "    Принимает:\n",
    "        датафрейм со списком моделей и их характеристиками;\n",
    "        два датасета (features and target) – обучающую и валидационную выборки;\n",
    "        параметр cv для cross_val_score;\n",
    "        список метрик\n",
    "        \n",
    "    Для каждой модели в датафрейме добавляет указанные метрики для обоих датасетов.\n",
    "    '''\n",
    "\n",
    "    def cv_score(model, X, Y, scoring, cv):\n",
    "        invert_koeff = -1 if scoring.split('_')[0] == 'neg' else 1   # инвертирование метрик с приставкой \"neg_\"\n",
    "        return invert_koeff * cross_val_score(model, X, Y, scoring=scoring, cv=cv, n_jobs=-1).mean()\n",
    "    \n",
    "    if verbose: print(f'Performing cross_val_score with cv={N_CV} and scoring_list={scoring_list}:')\n",
    "    \n",
    "    for scoring in scoring_list:\n",
    "    \n",
    "        # результаты моделей на обучающей выборке (усреднение на кроссвалидации)\n",
    "        if verbose: print(f'{scoring}_train...', end=' ')\n",
    "        models[f'{scoring}_train'] = models.model.apply(cv_score, args=(X_train, Y_train, scoring, cv))\n",
    "        if verbose: print('done')\n",
    "\n",
    "        # результаты моделей на тестовой выборке (усреднение на кроссвалидации)\n",
    "        if verbose: print(f'{scoring}_test...', end=' ')\n",
    "        models[f'{scoring}_test'] = models.model.apply(cv_score , args=(X_valid, Y_valid, scoring, cv))\n",
    "        if verbose: print('done')\n",
    "    \n",
    "    # оптимальные гиперпараметры\n",
    "    models['best_params'] = models.study.apply(lambda model: model.best_params)\n",
    "    \n",
    "    return models"
   ]
  },
  {
   "cell_type": "code",
   "execution_count": 10,
   "id": "d14bb955",
   "metadata": {},
   "outputs": [],
   "source": [
    "def extract_final_features(pipeline_model):\n",
    "    '''\n",
    "    Принимает пайплайн.\n",
    "    Возвращает список признаков, на которых обучается финальный estimator пайплайна.\n",
    "    '''\n",
    "    feature_list = []\n",
    "    \n",
    "    for feature in pipeline_model.steps[-2][1].get_feature_names_out():\n",
    "        feature_list.append(feature.split('__')[1])\n",
    "\n",
    "    return feature_list"
   ]
  },
  {
   "cell_type": "markdown",
   "id": "f4825471",
   "metadata": {},
   "source": [
    "### Settings"
   ]
  },
  {
   "cell_type": "code",
   "execution_count": 11,
   "id": "604a0591",
   "metadata": {},
   "outputs": [],
   "source": [
    "# text styles\n",
    "class f:\n",
    "    BOLD = \"\\033[1m\"\n",
    "    ITALIC = \"\\033[3m\"\n",
    "    END = \"\\033[0m\""
   ]
  },
  {
   "cell_type": "code",
   "execution_count": 12,
   "id": "67297223",
   "metadata": {},
   "outputs": [],
   "source": [
    "# charts defaults\n",
    "\n",
    "# Matplotlib, Seaborn\n",
    "PLOT_DPI = 150  # dpi for charts rendering \n",
    "sns.set_style('whitegrid', {'axes.facecolor': '0.98', 'grid.color': '0.9', 'axes.edgecolor': '1.0'})\n",
    "plt.rc(\n",
    "       'axes',\n",
    "       labelweight='bold',\n",
    "       titlesize=16,\n",
    "       titlepad=10,\n",
    "      )\n",
    "\n",
    "# Plotly Graph_Objects\n",
    "pio.templates['my_theme'] = go.layout.Template(\n",
    "                                               layout_autosize=True,\n",
    "                                               # width=900,\n",
    "                                               layout_height=200,\n",
    "                                               layout_legend_orientation=\"h\",\n",
    "                                               layout_margin=dict(t=40, b=40),         # (l=0, r=0, b=0, t=0, pad=0)\n",
    "                                               layout_template='seaborn',\n",
    "                                              )\n",
    "pio.templates.default = 'my_theme'\n",
    "\n",
    "# colors, color schemes\n",
    "CMAP_SYMMETRIC = LinearSegmentedColormap.from_list('', ['steelblue', 'aliceblue', 'steelblue'])"
   ]
  },
  {
   "cell_type": "code",
   "execution_count": 13,
   "id": "705dd986",
   "metadata": {},
   "outputs": [],
   "source": [
    "# Pandas defaults\n",
    "pd.options.display.max_colwidth = 100\n",
    "pd.options.display.max_rows = 500\n",
    "pd.options.display.max_columns = 100\n",
    "pd.options.display.float_format = '{:.3f}'.format\n",
    "pd.options.display.colheader_justify = 'left'"
   ]
  },
  {
   "cell_type": "code",
   "execution_count": 14,
   "id": "2a44035b",
   "metadata": {},
   "outputs": [],
   "source": [
    "# Optuna defaults\n",
    "optuna.logging.set_verbosity(optuna.logging.WARNING)  # отключение вывода логов при работе optuna"
   ]
  },
  {
   "cell_type": "code",
   "execution_count": 15,
   "id": "a0d24efb",
   "metadata": {},
   "outputs": [],
   "source": [
    "# others\n",
    "warnings.filterwarnings('ignore')"
   ]
  },
  {
   "cell_type": "markdown",
   "id": "d6e7da7a",
   "metadata": {},
   "source": [
    "---"
   ]
  },
  {
   "cell_type": "markdown",
   "id": "30757a9f",
   "metadata": {},
   "source": [
    "## Read and Check data"
   ]
  },
  {
   "cell_type": "markdown",
   "id": "52961e98",
   "metadata": {},
   "source": [
    "### Read data"
   ]
  },
  {
   "cell_type": "code",
   "execution_count": 16,
   "id": "4faefdb1",
   "metadata": {},
   "outputs": [],
   "source": [
    "data = custom_read_csv('toxic_comments.csv')"
   ]
  },
  {
   "cell_type": "code",
   "execution_count": 17,
   "id": "ad9a46c9",
   "metadata": {},
   "outputs": [
    {
     "name": "stdout",
     "output_type": "stream",
     "text": [
      "\n",
      "\n",
      " \u001b[1mdata\u001b[0m ≋≋≋≋≋≋≋≋≋≋≋≋≋≋≋≋≋≋≋≋≋≋≋≋≋≋≋≋≋≋\n",
      "\n",
      "\n",
      "--- method info() ---\n",
      "\n",
      "<class 'pandas.core.frame.DataFrame'>\n",
      "RangeIndex: 159292 entries, 0 to 159291\n",
      "Data columns (total 3 columns):\n",
      " #   Column      Non-Null Count   Dtype \n",
      "---  ------      --------------   ----- \n",
      " 0   Unnamed: 0  159292 non-null  int64 \n",
      " 1   text        159291 non-null  object\n",
      " 2   toxic       159292 non-null  int64 \n",
      "dtypes: int64(2), object(1)\n",
      "memory usage: 3.6+ MB\n",
      "None\n",
      "\n",
      "\n",
      "--- method sample(5) ---\n"
     ]
    },
    {
     "data": {
      "text/html": [
       "<div>\n",
       "<style scoped>\n",
       "    .dataframe tbody tr th:only-of-type {\n",
       "        vertical-align: middle;\n",
       "    }\n",
       "\n",
       "    .dataframe tbody tr th {\n",
       "        vertical-align: top;\n",
       "    }\n",
       "\n",
       "    .dataframe thead th {\n",
       "        text-align: right;\n",
       "    }\n",
       "</style>\n",
       "<table border=\"1\" class=\"dataframe\">\n",
       "  <thead>\n",
       "    <tr style=\"text-align: left;\">\n",
       "      <th></th>\n",
       "      <th>Unnamed: 0</th>\n",
       "      <th>text</th>\n",
       "      <th>toxic</th>\n",
       "    </tr>\n",
       "  </thead>\n",
       "  <tbody>\n",
       "    <tr>\n",
       "      <th>48569</th>\n",
       "      <td>48624</td>\n",
       "      <td>, 20 September 2014 (UTC)\\nComment Russia Today is about as far from WP:RS as a source can be. U...</td>\n",
       "      <td>0</td>\n",
       "    </tr>\n",
       "    <tr>\n",
       "      <th>44362</th>\n",
       "      <td>44415</td>\n",
       "      <td>I am a student at Criminal Law. I have never heard of the above alleged laws posted by a Purrum.</td>\n",
       "      <td>0</td>\n",
       "    </tr>\n",
       "    <tr>\n",
       "      <th>152661</th>\n",
       "      <td>152818</td>\n",
       "      <td>I think it's a good point which is brought up here, but it just looks like grasping at straws.\\n...</td>\n",
       "      <td>0</td>\n",
       "    </tr>\n",
       "    <tr>\n",
       "      <th>9372</th>\n",
       "      <td>9385</td>\n",
       "      <td>when,i have time,i will reorganize the article,and help you in writing it.</td>\n",
       "      <td>0</td>\n",
       "    </tr>\n",
       "    <tr>\n",
       "      <th>29596</th>\n",
       "      <td>29635</td>\n",
       "      <td>That page was listed a couple of days ago, but I didn't had time to check it. Anyway, I see the ...</td>\n",
       "      <td>0</td>\n",
       "    </tr>\n",
       "  </tbody>\n",
       "</table>\n",
       "</div>"
      ],
      "text/plain": [
       "        Unnamed: 0  \\\n",
       "48569    48624       \n",
       "44362    44415       \n",
       "152661  152818       \n",
       "9372      9385       \n",
       "29596    29635       \n",
       "\n",
       "       text                                                                                                  \\\n",
       "48569   , 20 September 2014 (UTC)\\nComment Russia Today is about as far from WP:RS as a source can be. U...   \n",
       "44362      I am a student at Criminal Law. I have never heard of the above alleged laws posted by a Purrum.   \n",
       "152661  I think it's a good point which is brought up here, but it just looks like grasping at straws.\\n...   \n",
       "9372                             when,i have time,i will reorganize the article,and help you in writing it.   \n",
       "29596   That page was listed a couple of days ago, but I didn't had time to check it. Anyway, I see the ...   \n",
       "\n",
       "        toxic  \n",
       "48569   0      \n",
       "44362   0      \n",
       "152661  0      \n",
       "9372    0      \n",
       "29596   0      "
      ]
     },
     "metadata": {},
     "output_type": "display_data"
    },
    {
     "name": "stdout",
     "output_type": "stream",
     "text": [
      "\n",
      "\n",
      "--- method describe(all) ---\n"
     ]
    },
    {
     "data": {
      "text/html": [
       "<div>\n",
       "<style scoped>\n",
       "    .dataframe tbody tr th:only-of-type {\n",
       "        vertical-align: middle;\n",
       "    }\n",
       "\n",
       "    .dataframe tbody tr th {\n",
       "        vertical-align: top;\n",
       "    }\n",
       "\n",
       "    .dataframe thead th {\n",
       "        text-align: right;\n",
       "    }\n",
       "</style>\n",
       "<table border=\"1\" class=\"dataframe\">\n",
       "  <thead>\n",
       "    <tr style=\"text-align: left;\">\n",
       "      <th></th>\n",
       "      <th>Unnamed: 0</th>\n",
       "      <th>toxic</th>\n",
       "    </tr>\n",
       "  </thead>\n",
       "  <tbody>\n",
       "    <tr>\n",
       "      <th>count</th>\n",
       "      <td>159292.000</td>\n",
       "      <td>159292.000</td>\n",
       "    </tr>\n",
       "    <tr>\n",
       "      <th>mean</th>\n",
       "      <td>79725.697</td>\n",
       "      <td>0.102</td>\n",
       "    </tr>\n",
       "    <tr>\n",
       "      <th>std</th>\n",
       "      <td>46028.837</td>\n",
       "      <td>0.302</td>\n",
       "    </tr>\n",
       "    <tr>\n",
       "      <th>min</th>\n",
       "      <td>0.000</td>\n",
       "      <td>0.000</td>\n",
       "    </tr>\n",
       "    <tr>\n",
       "      <th>25%</th>\n",
       "      <td>39872.750</td>\n",
       "      <td>0.000</td>\n",
       "    </tr>\n",
       "    <tr>\n",
       "      <th>50%</th>\n",
       "      <td>79721.500</td>\n",
       "      <td>0.000</td>\n",
       "    </tr>\n",
       "    <tr>\n",
       "      <th>75%</th>\n",
       "      <td>119573.250</td>\n",
       "      <td>0.000</td>\n",
       "    </tr>\n",
       "    <tr>\n",
       "      <th>max</th>\n",
       "      <td>159450.000</td>\n",
       "      <td>1.000</td>\n",
       "    </tr>\n",
       "  </tbody>\n",
       "</table>\n",
       "</div>"
      ],
      "text/plain": [
       "       Unnamed: 0  toxic    \n",
       "count 159292.000  159292.000\n",
       "mean   79725.697       0.102\n",
       "std    46028.837       0.302\n",
       "min        0.000       0.000\n",
       "25%    39872.750       0.000\n",
       "50%    79721.500       0.000\n",
       "75%   119573.250       0.000\n",
       "max   159450.000       1.000"
      ]
     },
     "metadata": {},
     "output_type": "display_data"
    },
    {
     "data": {
      "text/html": [
       "<div>\n",
       "<style scoped>\n",
       "    .dataframe tbody tr th:only-of-type {\n",
       "        vertical-align: middle;\n",
       "    }\n",
       "\n",
       "    .dataframe tbody tr th {\n",
       "        vertical-align: top;\n",
       "    }\n",
       "\n",
       "    .dataframe thead th {\n",
       "        text-align: right;\n",
       "    }\n",
       "</style>\n",
       "<table border=\"1\" class=\"dataframe\">\n",
       "  <thead>\n",
       "    <tr style=\"text-align: left;\">\n",
       "      <th></th>\n",
       "      <th>count</th>\n",
       "      <th>unique</th>\n",
       "      <th>top</th>\n",
       "      <th>freq</th>\n",
       "    </tr>\n",
       "  </thead>\n",
       "  <tbody>\n",
       "    <tr>\n",
       "      <th>text</th>\n",
       "      <td>159291</td>\n",
       "      <td>159243</td>\n",
       "      <td>Ошибка:509</td>\n",
       "      <td>37</td>\n",
       "    </tr>\n",
       "  </tbody>\n",
       "</table>\n",
       "</div>"
      ],
      "text/plain": [
       "     count   unique  top         freq\n",
       "text  159291  159243  Ошибка:509  37 "
      ]
     },
     "metadata": {},
     "output_type": "display_data"
    }
   ],
   "source": [
    "basic_info(data)"
   ]
  },
  {
   "cell_type": "markdown",
   "id": "0af32cbb",
   "metadata": {},
   "source": [
    "> Лишняя колонка (вероятно, индекс) `Unnamed: 0`. Удалить.\n",
    "> \n",
    "> Поле `text` содержит служебные сообщения. Например, `Ошибка:509`. Очистить.  \n",
    "> Поле `text` содержит 1 пропущенное значение. Удалить.\n",
    "\n",
    "> Целевой признак `toxic` несбалансирован, соотношение примерно 10:1."
   ]
  },
  {
   "cell_type": "markdown",
   "id": "294270cf",
   "metadata": {},
   "source": [
    "### Небольшие улучшения данных"
   ]
  },
  {
   "cell_type": "markdown",
   "id": "6da1eed3",
   "metadata": {},
   "source": [
    "Датафрейм до очистки."
   ]
  },
  {
   "cell_type": "code",
   "execution_count": 18,
   "id": "30697f07",
   "metadata": {},
   "outputs": [
    {
     "name": "stdout",
     "output_type": "stream",
     "text": [
      "<class 'pandas.core.frame.DataFrame'>\n",
      "RangeIndex: 159292 entries, 0 to 159291\n",
      "Data columns (total 3 columns):\n",
      " #   Column      Non-Null Count   Dtype \n",
      "---  ------      --------------   ----- \n",
      " 0   Unnamed: 0  159292 non-null  int64 \n",
      " 1   text        159291 non-null  object\n",
      " 2   toxic       159292 non-null  int64 \n",
      "dtypes: int64(2), object(1)\n",
      "memory usage: 3.6+ MB\n"
     ]
    }
   ],
   "source": [
    "data.info()"
   ]
  },
  {
   "cell_type": "markdown",
   "id": "c268a2d3",
   "metadata": {},
   "source": [
    "Удаление колонки со старым индексом."
   ]
  },
  {
   "cell_type": "code",
   "execution_count": 19,
   "id": "2de12308",
   "metadata": {},
   "outputs": [],
   "source": [
    "data = data.drop('Unnamed: 0', axis=1)"
   ]
  },
  {
   "cell_type": "markdown",
   "id": "4f7f74dd",
   "metadata": {},
   "source": [
    "Удаление записей с пропущенными значениями."
   ]
  },
  {
   "cell_type": "code",
   "execution_count": 20,
   "id": "e14f6e5f",
   "metadata": {},
   "outputs": [],
   "source": [
    "data = data.dropna()"
   ]
  },
  {
   "cell_type": "markdown",
   "id": "b34fbf83",
   "metadata": {},
   "source": [
    "Удаление записей со служебными значениями в поле `text`."
   ]
  },
  {
   "cell_type": "code",
   "execution_count": 21,
   "id": "b72e17d3",
   "metadata": {},
   "outputs": [
    {
     "data": {
      "text/plain": [
       "53"
      ]
     },
     "execution_count": 21,
     "metadata": {},
     "output_type": "execute_result"
    }
   ],
   "source": [
    "data[data.text.str.contains('Ошибка:')].shape[0]"
   ]
  },
  {
   "cell_type": "code",
   "execution_count": 22,
   "id": "866f7cd3",
   "metadata": {},
   "outputs": [],
   "source": [
    "data = data[~data.text.str.contains('Ошибка:')].reset_index(drop=True)"
   ]
  },
  {
   "cell_type": "code",
   "execution_count": 23,
   "id": "ef51755a",
   "metadata": {},
   "outputs": [
    {
     "data": {
      "text/plain": [
       "0"
      ]
     },
     "execution_count": 23,
     "metadata": {},
     "output_type": "execute_result"
    }
   ],
   "source": [
    "data[data.text.str.contains('Ошибка')].shape[0]"
   ]
  },
  {
   "cell_type": "markdown",
   "id": "2aa54445",
   "metadata": {},
   "source": [
    "> Удалено поле со старым (ненужным) индексом.  \n",
    "> Удалены записи с пропущенными значениями.  \n",
    "> Удалены записи со служебными сообщениями.  "
   ]
  },
  {
   "cell_type": "markdown",
   "id": "2ce55585",
   "metadata": {},
   "source": [
    "Датафрейм после очистки."
   ]
  },
  {
   "cell_type": "code",
   "execution_count": 24,
   "id": "1ebaf6a4",
   "metadata": {},
   "outputs": [
    {
     "name": "stdout",
     "output_type": "stream",
     "text": [
      "<class 'pandas.core.frame.DataFrame'>\n",
      "RangeIndex: 159238 entries, 0 to 159237\n",
      "Data columns (total 2 columns):\n",
      " #   Column  Non-Null Count   Dtype \n",
      "---  ------  --------------   ----- \n",
      " 0   text    159238 non-null  object\n",
      " 1   toxic   159238 non-null  int64 \n",
      "dtypes: int64(1), object(1)\n",
      "memory usage: 2.4+ MB\n"
     ]
    }
   ],
   "source": [
    "data.info()"
   ]
  },
  {
   "cell_type": "markdown",
   "id": "19887318",
   "metadata": {},
   "source": [
    "### Проверка корректности разметки данных"
   ]
  },
  {
   "cell_type": "markdown",
   "id": "c235d646",
   "metadata": {},
   "source": [
    "Вычислим в тексте сначала количество, а затем долю:  \n",
    "- восклицательных знаков;\n",
    "- вопросительных знаков;\n",
    "- заглавных букв.\n",
    "\n",
    "Сравним тексты, которые размечены как `toxic=0` и как `toxic=1`."
   ]
  },
  {
   "cell_type": "code",
   "execution_count": 25,
   "id": "700da21f",
   "metadata": {
    "scrolled": false
   },
   "outputs": [],
   "source": [
    "# употребление восклицательного знака\n",
    "data['exclamation_count'] = data.text.str.count('!')\n",
    "data['exclamation_frac'] = data['exclamation_count'] / data['text'].str.len()\n",
    "\n",
    "# употребление вопросительного знака\n",
    "data['question_count'] = data.text.str.count('\\?')\n",
    "data['question_frac'] = data['question_count'] / data['text'].str.len()\n",
    "\n",
    "# употребление заглавных букв\n",
    "data['uppercase_count'] = data.text.apply(lambda text: sum(1 for char in text if char.isupper()))\n",
    "data['uppercase_frac'] = data['uppercase_count'] / data['text'].str.len()"
   ]
  },
  {
   "cell_type": "markdown",
   "id": "0f29da39",
   "metadata": {},
   "source": [
    "#### Употребление восклицательного знака"
   ]
  },
  {
   "cell_type": "code",
   "execution_count": 26,
   "id": "be0ff9e8",
   "metadata": {},
   "outputs": [
    {
     "data": {
      "text/html": [
       "<div>\n",
       "<style scoped>\n",
       "    .dataframe tbody tr th:only-of-type {\n",
       "        vertical-align: middle;\n",
       "    }\n",
       "\n",
       "    .dataframe tbody tr th {\n",
       "        vertical-align: top;\n",
       "    }\n",
       "\n",
       "    .dataframe thead th {\n",
       "        text-align: right;\n",
       "    }\n",
       "</style>\n",
       "<table border=\"1\" class=\"dataframe\">\n",
       "  <thead>\n",
       "    <tr style=\"text-align: left;\">\n",
       "      <th></th>\n",
       "      <th>text</th>\n",
       "      <th>exclamation_frac</th>\n",
       "      <th>toxic</th>\n",
       "    </tr>\n",
       "  </thead>\n",
       "  <tbody>\n",
       "    <tr>\n",
       "      <th>135860</th>\n",
       "      <td>hi trextori12 ) I♥♥♥u girl!!!!!!!!!!!!!!!!!!!!!!!!!!!!!!!!!!!!!!!!!!!!!!!!!!!!!!!!!!!!!!!!!!!!!!...</td>\n",
       "      <td>0.917</td>\n",
       "      <td>0</td>\n",
       "    </tr>\n",
       "    <tr>\n",
       "      <th>48765</th>\n",
       "      <td>Wikipedia, I have one itty bitty question. LEAVE MY EDITS ALONE!!!!!!!!!!!!!!!!!!!!!!!!!!!!!!!!!...</td>\n",
       "      <td>0.886</td>\n",
       "      <td>0</td>\n",
       "    </tr>\n",
       "    <tr>\n",
       "      <th>76257</th>\n",
       "      <td>The Best \\n\\nBode Miller is the best skier in the WORLD!!!!!!!!!!!!!!!!!!!!!!!!!!!\\n!!!!!!!!!!!!...</td>\n",
       "      <td>0.812</td>\n",
       "      <td>0</td>\n",
       "    </tr>\n",
       "    <tr>\n",
       "      <th>81296</th>\n",
       "      <td>i didnt get pranked hahaha!!!!!!!!!!!!!!!!!!!!!!!!!!!!!!!!!!!!!!!!!!!!!!!!!!!!!!!!!!!!!!!!!!!!!!...</td>\n",
       "      <td>0.752</td>\n",
       "      <td>0</td>\n",
       "    </tr>\n",
       "    <tr>\n",
       "      <th>152458</th>\n",
       "      <td>Leave me alone!!!!!!!!!!!!!!!!!!!!!!!!!!!!!!!!!!!!!!!!!!!!!!!!!!!!!!!!!!!!!!!!!!!!!!!!!!!!!!!!!!...</td>\n",
       "      <td>0.741</td>\n",
       "      <td>0</td>\n",
       "    </tr>\n",
       "  </tbody>\n",
       "</table>\n",
       "</div>"
      ],
      "text/plain": [
       "       text                                                                                                  \\\n",
       "135860  hi trextori12 ) I♥♥♥u girl!!!!!!!!!!!!!!!!!!!!!!!!!!!!!!!!!!!!!!!!!!!!!!!!!!!!!!!!!!!!!!!!!!!!!!...   \n",
       "48765   Wikipedia, I have one itty bitty question. LEAVE MY EDITS ALONE!!!!!!!!!!!!!!!!!!!!!!!!!!!!!!!!!...   \n",
       "76257   The Best \\n\\nBode Miller is the best skier in the WORLD!!!!!!!!!!!!!!!!!!!!!!!!!!!\\n!!!!!!!!!!!!...   \n",
       "81296   i didnt get pranked hahaha!!!!!!!!!!!!!!!!!!!!!!!!!!!!!!!!!!!!!!!!!!!!!!!!!!!!!!!!!!!!!!!!!!!!!!...   \n",
       "152458  Leave me alone!!!!!!!!!!!!!!!!!!!!!!!!!!!!!!!!!!!!!!!!!!!!!!!!!!!!!!!!!!!!!!!!!!!!!!!!!!!!!!!!!!...   \n",
       "\n",
       "        exclamation_frac  toxic  \n",
       "135860 0.917              0      \n",
       "48765  0.886              0      \n",
       "76257  0.812              0      \n",
       "81296  0.752              0      \n",
       "152458 0.741              0      "
      ]
     },
     "execution_count": 26,
     "metadata": {},
     "output_type": "execute_result"
    }
   ],
   "source": [
    "data[data.toxic == 0][['text','exclamation_frac','toxic']].sort_values('exclamation_frac', ascending=False).head()"
   ]
  },
  {
   "cell_type": "code",
   "execution_count": 27,
   "id": "9809bfc4",
   "metadata": {},
   "outputs": [
    {
     "data": {
      "text/plain": [
       "toxic\n",
       "0    809\n",
       "1    788\n",
       "dtype: int64"
      ]
     },
     "execution_count": 27,
     "metadata": {},
     "output_type": "execute_result"
    }
   ],
   "source": [
    "data.query('exclamation_frac > 0.5 or exclamation_count > 5').groupby('toxic').size()"
   ]
  },
  {
   "cell_type": "markdown",
   "id": "107c25dd",
   "metadata": {},
   "source": [
    "#### Употребление вопросительного знака"
   ]
  },
  {
   "cell_type": "code",
   "execution_count": 28,
   "id": "aa73e403",
   "metadata": {
    "scrolled": true
   },
   "outputs": [
    {
     "data": {
      "text/html": [
       "<div>\n",
       "<style scoped>\n",
       "    .dataframe tbody tr th:only-of-type {\n",
       "        vertical-align: middle;\n",
       "    }\n",
       "\n",
       "    .dataframe tbody tr th {\n",
       "        vertical-align: top;\n",
       "    }\n",
       "\n",
       "    .dataframe thead th {\n",
       "        text-align: right;\n",
       "    }\n",
       "</style>\n",
       "<table border=\"1\" class=\"dataframe\">\n",
       "  <thead>\n",
       "    <tr style=\"text-align: left;\">\n",
       "      <th></th>\n",
       "      <th>text</th>\n",
       "      <th>question_frac</th>\n",
       "      <th>toxic</th>\n",
       "    </tr>\n",
       "  </thead>\n",
       "  <tbody>\n",
       "    <tr>\n",
       "      <th>8078</th>\n",
       "      <td>Why do people care so much about immiagtion?????????????????????????????????????????????????????...</td>\n",
       "      <td>0.598</td>\n",
       "      <td>0</td>\n",
       "    </tr>\n",
       "    <tr>\n",
       "      <th>5525</th>\n",
       "      <td>Silly games? \\n\\nIm sorry but what did I DO???????????????????????????????????????????????????????</td>\n",
       "      <td>0.583</td>\n",
       "      <td>0</td>\n",
       "    </tr>\n",
       "    <tr>\n",
       "      <th>125415</th>\n",
       "      <td>Wich principle i do not respect???????????????????????????????????????????????? (  )</td>\n",
       "      <td>0.571</td>\n",
       "      <td>0</td>\n",
       "    </tr>\n",
       "    <tr>\n",
       "      <th>81776</th>\n",
       "      <td>Why! Have I Been Wikipedia:Blocked?\\n????????????????????????????????????????\\n'</td>\n",
       "      <td>0.526</td>\n",
       "      <td>0</td>\n",
       "    </tr>\n",
       "    <tr>\n",
       "      <th>132963</th>\n",
       "      <td>???????????????????? \\n\\nIsn't it, though? lol</td>\n",
       "      <td>0.477</td>\n",
       "      <td>0</td>\n",
       "    </tr>\n",
       "  </tbody>\n",
       "</table>\n",
       "</div>"
      ],
      "text/plain": [
       "       text                                                                                                  \\\n",
       "8078    Why do people care so much about immiagtion?????????????????????????????????????????????????????...   \n",
       "5525     Silly games? \\n\\nIm sorry but what did I DO???????????????????????????????????????????????????????   \n",
       "125415                 Wich principle i do not respect???????????????????????????????????????????????? (  )   \n",
       "81776                      Why! Have I Been Wikipedia:Blocked?\\n????????????????????????????????????????\\n'   \n",
       "132963                                                       ???????????????????? \\n\\nIsn't it, though? lol   \n",
       "\n",
       "        question_frac  toxic  \n",
       "8078   0.598           0      \n",
       "5525   0.583           0      \n",
       "125415 0.571           0      \n",
       "81776  0.526           0      \n",
       "132963 0.477           0      "
      ]
     },
     "execution_count": 28,
     "metadata": {},
     "output_type": "execute_result"
    }
   ],
   "source": [
    "data[data.toxic == 0][['text','question_frac','toxic']].sort_values('question_frac', ascending=False).head()"
   ]
  },
  {
   "cell_type": "code",
   "execution_count": 29,
   "id": "d62aca35",
   "metadata": {},
   "outputs": [
    {
     "data": {
      "text/plain": [
       "954"
      ]
     },
     "execution_count": 29,
     "metadata": {},
     "output_type": "execute_result"
    }
   ],
   "source": [
    "data.query('toxic == 0 and (question_frac > 0.5 or question_count > 5)').shape[0]"
   ]
  },
  {
   "cell_type": "code",
   "execution_count": 30,
   "id": "83dc194e",
   "metadata": {},
   "outputs": [
    {
     "data": {
      "text/plain": [
       "toxic\n",
       "0    954\n",
       "1    214\n",
       "dtype: int64"
      ]
     },
     "execution_count": 30,
     "metadata": {},
     "output_type": "execute_result"
    }
   ],
   "source": [
    "data.query('question_frac > 0.5 or question_count > 5').groupby('toxic').size()"
   ]
  },
  {
   "cell_type": "markdown",
   "id": "73d81a30",
   "metadata": {},
   "source": [
    "#### Употребление заглавных букв"
   ]
  },
  {
   "cell_type": "code",
   "execution_count": 31,
   "id": "2b570e03",
   "metadata": {},
   "outputs": [
    {
     "data": {
      "text/html": [
       "<div>\n",
       "<style scoped>\n",
       "    .dataframe tbody tr th:only-of-type {\n",
       "        vertical-align: middle;\n",
       "    }\n",
       "\n",
       "    .dataframe tbody tr th {\n",
       "        vertical-align: top;\n",
       "    }\n",
       "\n",
       "    .dataframe thead th {\n",
       "        text-align: right;\n",
       "    }\n",
       "</style>\n",
       "<table border=\"1\" class=\"dataframe\">\n",
       "  <thead>\n",
       "    <tr style=\"text-align: left;\">\n",
       "      <th></th>\n",
       "      <th>text</th>\n",
       "      <th>uppercase_frac</th>\n",
       "      <th>toxic</th>\n",
       "    </tr>\n",
       "  </thead>\n",
       "  <tbody>\n",
       "    <tr>\n",
       "      <th>71438</th>\n",
       "      <td>MRRRRRRRRRRRRRRRRRRRRRRRRRRRRRRRRRRRRRRRRRRRRRRRRRRRRRRRRRRR KENNNNNNNNNNNNNNNNNNNNNNNNNNNNNNEDD...</td>\n",
       "      <td>0.963</td>\n",
       "      <td>0</td>\n",
       "    </tr>\n",
       "    <tr>\n",
       "      <th>22608</th>\n",
       "      <td>\"\\n\\n find the \"\"W\"\" \\n\\nMMMMMMMMMMMMMMMMMMMMMMMMMMMMMMMMMMMMMMMMMMMMMMMMMMMMMMMMMMMMMMMMMMMMMMM...</td>\n",
       "      <td>0.950</td>\n",
       "      <td>0</td>\n",
       "    </tr>\n",
       "    <tr>\n",
       "      <th>127934</th>\n",
       "      <td>toolLONG LIVE ANONYMOUS PHILIPPINESLONG LIVE ANONYMOUS PHILIPPINESLONG LIVE ANONYMOUS PHILIPPINE...</td>\n",
       "      <td>0.903</td>\n",
       "      <td>0</td>\n",
       "    </tr>\n",
       "    <tr>\n",
       "      <th>35237</th>\n",
       "      <td>MarxismLONG LIVE ANONYMOUS PHILIPPINESLONG LIVE ANONYMOUS PHILIPPINESLONG LIVE ANONYMOUS PHILIPP...</td>\n",
       "      <td>0.902</td>\n",
       "      <td>0</td>\n",
       "    </tr>\n",
       "    <tr>\n",
       "      <th>38858</th>\n",
       "      <td>easterLONG LIVE ANONYMOUS PHILIPPINESLONG LIVE ANONYMOUS PHILIPPINESLONG LIVE ANONYMOUS PHILIPPI...</td>\n",
       "      <td>0.901</td>\n",
       "      <td>0</td>\n",
       "    </tr>\n",
       "  </tbody>\n",
       "</table>\n",
       "</div>"
      ],
      "text/plain": [
       "       text                                                                                                  \\\n",
       "71438   MRRRRRRRRRRRRRRRRRRRRRRRRRRRRRRRRRRRRRRRRRRRRRRRRRRRRRRRRRRR KENNNNNNNNNNNNNNNNNNNNNNNNNNNNNNEDD...   \n",
       "22608   \"\\n\\n find the \"\"W\"\" \\n\\nMMMMMMMMMMMMMMMMMMMMMMMMMMMMMMMMMMMMMMMMMMMMMMMMMMMMMMMMMMMMMMMMMMMMMMM...   \n",
       "127934  toolLONG LIVE ANONYMOUS PHILIPPINESLONG LIVE ANONYMOUS PHILIPPINESLONG LIVE ANONYMOUS PHILIPPINE...   \n",
       "35237   MarxismLONG LIVE ANONYMOUS PHILIPPINESLONG LIVE ANONYMOUS PHILIPPINESLONG LIVE ANONYMOUS PHILIPP...   \n",
       "38858   easterLONG LIVE ANONYMOUS PHILIPPINESLONG LIVE ANONYMOUS PHILIPPINESLONG LIVE ANONYMOUS PHILIPPI...   \n",
       "\n",
       "        uppercase_frac  toxic  \n",
       "71438  0.963            0      \n",
       "22608  0.950            0      \n",
       "127934 0.903            0      \n",
       "35237  0.902            0      \n",
       "38858  0.901            0      "
      ]
     },
     "execution_count": 31,
     "metadata": {},
     "output_type": "execute_result"
    }
   ],
   "source": [
    "data[data.toxic == 0][['text','uppercase_frac','toxic']].sort_values('uppercase_frac', ascending=False).head()"
   ]
  },
  {
   "cell_type": "code",
   "execution_count": 32,
   "id": "0aea026a",
   "metadata": {},
   "outputs": [
    {
     "data": {
      "text/plain": [
       "toxic\n",
       "0    6417\n",
       "1    2122\n",
       "dtype: int64"
      ]
     },
     "execution_count": 32,
     "metadata": {},
     "output_type": "execute_result"
    }
   ],
   "source": [
    "data.query('uppercase_frac > 0.5 or uppercase_count > 50').groupby('toxic').size()"
   ]
  },
  {
   "cell_type": "markdown",
   "id": "53ecce8e",
   "metadata": {},
   "source": [
    "> Очевидно, часть данных размечена неверно.  \n",
    "> Например, не отмечены как токсичные некоторые комментарии c:\n",
    "> - многократным повтором одной и той же фразы;\n",
    "> - чрезмерным использованим восклицательных и вопросительных знаков;\n",
    "> - чрезмерным использованим заглавных букв;\n",
    "> - содержащие агрессивные высказываания.\n",
    "\n",
    "> Для оценки масштаба вероятных ошибок подсчитано количество текстов, размеченных как `toxic=0`, в которых:  \n",
    "> - доля символов `!` больше 50% длины текста либо количество `!` больше 5;\n",
    "> - доля символов `?` больше 50% длины текста либо количество `?` больше 5;\n",
    "> - доля `CAPS` больше 50% длины текста либо количество `CAPS` больше 50.\n",
    ">\n",
    "> Суммарно, по меньшей мере, 6% данных предположительно размечены неверно.\n",
    "\n",
    "> *Следует сделать оговорку, что критерии \"токсичности\" в задании не определены.*"
   ]
  },
  {
   "cell_type": "code",
   "execution_count": 33,
   "id": "59a9caa4",
   "metadata": {},
   "outputs": [],
   "source": [
    "data = data.drop(['exclamation_count','question_count','uppercase_count',\n",
    "                  'exclamation_frac','question_frac','uppercase_frac'], axis=1)"
   ]
  },
  {
   "cell_type": "markdown",
   "id": "b1fa5f99",
   "metadata": {},
   "source": [
    "> Использование этих новых признаков практически не влияет на модель (проверено!) ввиду описанных выше ошибок в разметке."
   ]
  },
  {
   "cell_type": "markdown",
   "id": "ea583641",
   "metadata": {},
   "source": [
    "### Небольшие улучшения данных (продолжение)"
   ]
  },
  {
   "cell_type": "markdown",
   "id": "2fb04780",
   "metadata": {},
   "source": [
    "Перевод в нижний регистр."
   ]
  },
  {
   "cell_type": "code",
   "execution_count": 34,
   "id": "eede347e",
   "metadata": {},
   "outputs": [],
   "source": [
    "data.text = data.text.str.lower()"
   ]
  },
  {
   "cell_type": "markdown",
   "id": "af0d9d96",
   "metadata": {},
   "source": [
    "Удаление дубликатов."
   ]
  },
  {
   "cell_type": "code",
   "execution_count": 35,
   "id": "f8c8c7fa",
   "metadata": {},
   "outputs": [
    {
     "data": {
      "text/plain": [
       "46"
      ]
     },
     "execution_count": 35,
     "metadata": {},
     "output_type": "execute_result"
    }
   ],
   "source": [
    "data.duplicated(subset=['text']).sum()"
   ]
  },
  {
   "cell_type": "code",
   "execution_count": 36,
   "id": "17da2c94",
   "metadata": {},
   "outputs": [],
   "source": [
    "data = data.drop_duplicates(subset=['text'], ignore_index=False)"
   ]
  },
  {
   "cell_type": "code",
   "execution_count": 37,
   "id": "d2fba661",
   "metadata": {},
   "outputs": [
    {
     "data": {
      "text/plain": [
       "0"
      ]
     },
     "execution_count": 37,
     "metadata": {},
     "output_type": "execute_result"
    }
   ],
   "source": [
    "data.duplicated(subset=['text']).sum()"
   ]
  },
  {
   "cell_type": "markdown",
   "id": "fae529e9",
   "metadata": {},
   "source": [
    "> Значения переведены в нижний регистр.  \n",
    "> Удалены дубликаты, в том числе 1 неявный (одинаковые значения в поле `text`, но разные в поле `toxic`)."
   ]
  },
  {
   "cell_type": "markdown",
   "id": "97e4413c",
   "metadata": {},
   "source": [
    "---"
   ]
  },
  {
   "cell_type": "markdown",
   "id": "42c60ace",
   "metadata": {},
   "source": [
    "## Подготовка данных"
   ]
  },
  {
   "cell_type": "markdown",
   "id": "a449cfdc",
   "metadata": {},
   "source": [
    "### Очистка, токенизация, лемматизация"
   ]
  },
  {
   "cell_type": "code",
   "execution_count": 38,
   "id": "1b5d164a",
   "metadata": {},
   "outputs": [],
   "source": [
    "def clean_text(text):\n",
    "    '''\n",
    "    Принимает объект типа string.\n",
    "    Удаляет из него все символы, кроме стандартных символов латиницы и пробела.\n",
    "    Возвращает объект типа string.\n",
    "    '''\n",
    "    return re.sub(r\"[^a-zA-Z ]\", ' ', text)"
   ]
  },
  {
   "cell_type": "code",
   "execution_count": null,
   "id": "4898d341",
   "metadata": {},
   "outputs": [],
   "source": [
    "def get_wordnet_pos(word):\n",
    "    '''\n",
    "    Map POS tag to first character lemmatize() accepts\n",
    "    '''\n",
    "    tag = nltk.pos_tag([word])[0][1][0].upper()\n",
    "    \n",
    "    tag_dict = {'J': wordnet.ADJ,\n",
    "                'N': wordnet.NOUN,\n",
    "                'V': wordnet.VERB,\n",
    "                'R': wordnet.ADV}\n",
    "    \n",
    "    return tag_dict.get(tag, wordnet.NOUN)"
   ]
  },
  {
   "cell_type": "code",
   "execution_count": null,
   "id": "792aa068",
   "metadata": {},
   "outputs": [],
   "source": [
    "def tokenize_lemmatize_text(text):\n",
    "    '''\n",
    "    Принимает объект типа string.\n",
    "    Производит токенизацию и лемматизацию.\n",
    "    Возвращает объект типа string.\n",
    "    '''\n",
    "    text_tokenized = TweetTokenizer().tokenize(text)\n",
    "    text_lemmatized = [WordNetLemmatizer().lemmatize(word, get_wordnet_pos(word)) for word in text_tokenized]\n",
    "    \n",
    "    return ' '.join(text_lemmatized)"
   ]
  },
  {
   "cell_type": "markdown",
   "id": "52344858",
   "metadata": {},
   "source": [
    "> Использование POS-тегов в данной задаче дает едва заметное улучшение, но существенно замедляет обработку!"
   ]
  },
  {
   "cell_type": "code",
   "execution_count": 40,
   "id": "219f332a",
   "metadata": {},
   "outputs": [
    {
     "data": {
      "application/vnd.jupyter.widget-view+json": {
       "model_id": "a8d2b54d84d9420c90dc6f387b4cb48e",
       "version_major": 2,
       "version_minor": 0
      },
      "text/plain": [
       "  0%|          | 0/159192 [00:00<?, ?it/s]"
      ]
     },
     "metadata": {},
     "output_type": "display_data"
    },
    {
     "name": "stdout",
     "output_type": "stream",
     "text": [
      "CPU times: total: 1min 19s\n",
      "Wall time: 1min 25s\n"
     ]
    }
   ],
   "source": [
    "%%time\n",
    "\n",
    "data.text = data.text.apply(clean_text).progress_apply(tokenize_lemmatize_text)"
   ]
  },
  {
   "cell_type": "code",
   "execution_count": 41,
   "id": "39b22ac7",
   "metadata": {},
   "outputs": [
    {
     "data": {
      "text/html": [
       "<div>\n",
       "<style scoped>\n",
       "    .dataframe tbody tr th:only-of-type {\n",
       "        vertical-align: middle;\n",
       "    }\n",
       "\n",
       "    .dataframe tbody tr th {\n",
       "        vertical-align: top;\n",
       "    }\n",
       "\n",
       "    .dataframe thead th {\n",
       "        text-align: right;\n",
       "    }\n",
       "</style>\n",
       "<table border=\"1\" class=\"dataframe\">\n",
       "  <thead>\n",
       "    <tr style=\"text-align: left;\">\n",
       "      <th></th>\n",
       "      <th>text</th>\n",
       "      <th>toxic</th>\n",
       "    </tr>\n",
       "  </thead>\n",
       "  <tbody>\n",
       "    <tr>\n",
       "      <th>58933</th>\n",
       "      <td>pov v npov hi from the arab israeli conflict page i ve noticed you just removed a statement abou...</td>\n",
       "      <td>0</td>\n",
       "    </tr>\n",
       "    <tr>\n",
       "      <th>71481</th>\n",
       "      <td>that s a pretty cool story bro</td>\n",
       "      <td>0</td>\n",
       "    </tr>\n",
       "    <tr>\n",
       "      <th>118865</th>\n",
       "      <td>would you like to vote in that case if yes please vote here thanks</td>\n",
       "      <td>0</td>\n",
       "    </tr>\n",
       "    <tr>\n",
       "      <th>123936</th>\n",
       "      <td>sandydancer you re not even maltese how do you expect to correctly edit a page about a person wh...</td>\n",
       "      <td>0</td>\n",
       "    </tr>\n",
       "    <tr>\n",
       "      <th>24028</th>\n",
       "      <td>a kitten for you thank you for your support</td>\n",
       "      <td>0</td>\n",
       "    </tr>\n",
       "  </tbody>\n",
       "</table>\n",
       "</div>"
      ],
      "text/plain": [
       "       text                                                                                                  \\\n",
       "58933   pov v npov hi from the arab israeli conflict page i ve noticed you just removed a statement abou...   \n",
       "71481                                                                        that s a pretty cool story bro   \n",
       "118865                                   would you like to vote in that case if yes please vote here thanks   \n",
       "123936  sandydancer you re not even maltese how do you expect to correctly edit a page about a person wh...   \n",
       "24028                                                           a kitten for you thank you for your support   \n",
       "\n",
       "        toxic  \n",
       "58933   0      \n",
       "71481   0      \n",
       "118865  0      \n",
       "123936  0      \n",
       "24028   0      "
      ]
     },
     "execution_count": 41,
     "metadata": {},
     "output_type": "execute_result"
    }
   ],
   "source": [
    "data.sample(5)"
   ]
  },
  {
   "cell_type": "markdown",
   "id": "df915fc0",
   "metadata": {},
   "source": [
    "### Выделение признаков и целевой переменной"
   ]
  },
  {
   "cell_type": "code",
   "execution_count": 42,
   "id": "c6417ec2",
   "metadata": {},
   "outputs": [
    {
     "data": {
      "text/plain": [
       "((159192, 1), (159192,))"
      ]
     },
     "execution_count": 42,
     "metadata": {},
     "output_type": "execute_result"
    }
   ],
   "source": [
    "X = data.drop(TARGET, axis=1)\n",
    "Y = data[TARGET]\n",
    "\n",
    "X.shape, Y.shape"
   ]
  },
  {
   "cell_type": "markdown",
   "id": "441e97e2",
   "metadata": {},
   "source": [
    "### Разделение на обучающую и валидационную выборки\n",
    "\n",
    "Валидационная выборка – часть, отрезанная от train, для локального тестирования модели."
   ]
  },
  {
   "cell_type": "code",
   "execution_count": 43,
   "id": "832aab9f",
   "metadata": {},
   "outputs": [
    {
     "data": {
      "text/plain": [
       "((111434, 1), (111434,), (47758, 1), (47758,))"
      ]
     },
     "execution_count": 43,
     "metadata": {},
     "output_type": "execute_result"
    }
   ],
   "source": [
    "X_train, X_valid, Y_train, Y_valid = train_test_split(X, Y, test_size=VALID_FRAC, stratify=Y, random_state=RS)\n",
    "\n",
    "X_train.shape, Y_train.shape, X_valid.shape, Y_valid.shape"
   ]
  },
  {
   "cell_type": "markdown",
   "id": "3798c839",
   "metadata": {},
   "source": [
    "---"
   ]
  },
  {
   "cell_type": "markdown",
   "id": "d76821ed",
   "metadata": {},
   "source": [
    "## Model"
   ]
  },
  {
   "cell_type": "markdown",
   "id": "391c661e",
   "metadata": {},
   "source": [
    "### Preprocessing"
   ]
  },
  {
   "cell_type": "markdown",
   "id": "84ae7a61",
   "metadata": {},
   "source": [
    "Препроцессинг несколько сложнее, чем требует задача, чтобы расширить примененимость кода для случаев, когда есть дополнительные признаки.  \n",
    "В препроцессинге нет трансформера для категориальных признаков (селектор есть). При необходимости нужно доделать."
   ]
  },
  {
   "cell_type": "code",
   "execution_count": 44,
   "id": "e123539e",
   "metadata": {},
   "outputs": [],
   "source": [
    "class TextSelector(BaseEstimator, TransformerMixin):\n",
    "    '''\n",
    "    Позволяет выбрать указанный признак для последующей обработки\n",
    "    '''\n",
    "    def __init__(self, field):\n",
    "        self.field = field\n",
    "    def fit(self, X, Y=None):\n",
    "        return self\n",
    "    def transform(self, X):\n",
    "        return X[self.field]"
   ]
  },
  {
   "cell_type": "markdown",
   "id": "482094b7",
   "metadata": {},
   "source": [
    "#### Селекторы числовых и категориальных признаков"
   ]
  },
  {
   "cell_type": "code",
   "execution_count": 45,
   "id": "7d6a0aa7",
   "metadata": {},
   "outputs": [],
   "source": [
    "num_selector = make_column_selector(dtype_include=np.number)\n",
    "cat_selector = make_column_selector(dtype_exclude=np.number)"
   ]
  },
  {
   "cell_type": "markdown",
   "id": "61b7adc6",
   "metadata": {},
   "source": [
    "#### Предбработка числовых признаков"
   ]
  },
  {
   "cell_type": "code",
   "execution_count": 46,
   "id": "27f4cc7e",
   "metadata": {},
   "outputs": [],
   "source": [
    "num_preprocessor = make_pipeline(\n",
    "#                                  IterativeImputer(initial_strategy='mean', random_state=RS),\n",
    "                                 StandardScaler(),\n",
    "                                )\n",
    "\n",
    "num_transformer = make_column_transformer(\n",
    "                                          (num_preprocessor, num_selector),\n",
    "                                          remainder='drop'\n",
    "                                         )"
   ]
  },
  {
   "cell_type": "markdown",
   "id": "da29dc4c",
   "metadata": {},
   "source": [
    "#### Предбработка текста"
   ]
  },
  {
   "cell_type": "code",
   "execution_count": 47,
   "id": "e133aafc",
   "metadata": {},
   "outputs": [],
   "source": [
    "# стандартный список стоп-слов\n",
    "stopwords_english = stopwords.words('english')"
   ]
  },
  {
   "cell_type": "code",
   "execution_count": 48,
   "id": "e1aebf37",
   "metadata": {},
   "outputs": [],
   "source": [
    "text_transformer = Pipeline([\n",
    "                              ('TEXT_SELECT', TextSelector('text')),\n",
    "                              ('TFIDF', TfidfVectorizer(\n",
    "                                                        decode_error='ignore',\n",
    "                                                        stop_words=stopwords_english,\n",
    "                                                        token_pattern=r'(?u)\\b[a-z]{3,}\\b',  # токены из 3-х и более букв\n",
    "                                                       )\n",
    "                              ),\n",
    "                             ])"
   ]
  },
  {
   "cell_type": "markdown",
   "id": "b5f4c85d",
   "metadata": {},
   "source": [
    "#### Объединение предобработки текста и числовых признаков"
   ]
  },
  {
   "cell_type": "code",
   "execution_count": 49,
   "id": "ff56d624",
   "metadata": {},
   "outputs": [],
   "source": [
    "features_union = FeatureUnion([\n",
    "                               ('TEXT', text_transformer),\n",
    "                               ('NUM', num_transformer),\n",
    "                              ])"
   ]
  },
  {
   "cell_type": "markdown",
   "id": "a1d13055",
   "metadata": {},
   "source": [
    "#### Pipelines' table"
   ]
  },
  {
   "cell_type": "code",
   "execution_count": 50,
   "id": "5ae4f9bc",
   "metadata": {},
   "outputs": [
    {
     "data": {
      "text/html": [
       "<div>\n",
       "<style scoped>\n",
       "    .dataframe tbody tr th:only-of-type {\n",
       "        vertical-align: middle;\n",
       "    }\n",
       "\n",
       "    .dataframe tbody tr th {\n",
       "        vertical-align: top;\n",
       "    }\n",
       "\n",
       "    .dataframe thead th {\n",
       "        text-align: right;\n",
       "    }\n",
       "</style>\n",
       "<table border=\"1\" class=\"dataframe\">\n",
       "  <thead>\n",
       "    <tr style=\"text-align: left;\">\n",
       "      <th></th>\n",
       "      <th>name</th>\n",
       "      <th>short_name</th>\n",
       "      <th>model</th>\n",
       "    </tr>\n",
       "  </thead>\n",
       "  <tbody>\n",
       "    <tr>\n",
       "      <th>0</th>\n",
       "      <td>DummyClassifier</td>\n",
       "      <td>DC</td>\n",
       "      <td>(FeatureUnion(transformer_list=[('TEXT',\\n                                Pipeline(steps=[('TEXT...</td>\n",
       "    </tr>\n",
       "    <tr>\n",
       "      <th>1</th>\n",
       "      <td>LogisticRegression</td>\n",
       "      <td>LR</td>\n",
       "      <td>(FeatureUnion(transformer_list=[('TEXT',\\n                                Pipeline(steps=[('TEXT...</td>\n",
       "    </tr>\n",
       "    <tr>\n",
       "      <th>2</th>\n",
       "      <td>RidgeClassifier</td>\n",
       "      <td>RC</td>\n",
       "      <td>(FeatureUnion(transformer_list=[('TEXT',\\n                                Pipeline(steps=[('TEXT...</td>\n",
       "    </tr>\n",
       "    <tr>\n",
       "      <th>3</th>\n",
       "      <td>SGDClassifier</td>\n",
       "      <td>SGDC</td>\n",
       "      <td>(FeatureUnion(transformer_list=[('TEXT',\\n                                Pipeline(steps=[('TEXT...</td>\n",
       "    </tr>\n",
       "    <tr>\n",
       "      <th>4</th>\n",
       "      <td>LinearSVC</td>\n",
       "      <td>LSVC</td>\n",
       "      <td>(FeatureUnion(transformer_list=[('TEXT',\\n                                Pipeline(steps=[('TEXT...</td>\n",
       "    </tr>\n",
       "    <tr>\n",
       "      <th>5</th>\n",
       "      <td>XGBClassifier</td>\n",
       "      <td>XGBC</td>\n",
       "      <td>(FeatureUnion(transformer_list=[('TEXT',\\n                                Pipeline(steps=[('TEXT...</td>\n",
       "    </tr>\n",
       "  </tbody>\n",
       "</table>\n",
       "</div>"
      ],
      "text/plain": [
       "  name                short_name  \\\n",
       "0     DummyClassifier    DC        \n",
       "1  LogisticRegression    LR        \n",
       "2     RidgeClassifier    RC        \n",
       "3       SGDClassifier  SGDC        \n",
       "4           LinearSVC  LSVC        \n",
       "5       XGBClassifier  XGBC        \n",
       "\n",
       "  model                                                                                                 \n",
       "0  (FeatureUnion(transformer_list=[('TEXT',\\n                                Pipeline(steps=[('TEXT...  \n",
       "1  (FeatureUnion(transformer_list=[('TEXT',\\n                                Pipeline(steps=[('TEXT...  \n",
       "2  (FeatureUnion(transformer_list=[('TEXT',\\n                                Pipeline(steps=[('TEXT...  \n",
       "3  (FeatureUnion(transformer_list=[('TEXT',\\n                                Pipeline(steps=[('TEXT...  \n",
       "4  (FeatureUnion(transformer_list=[('TEXT',\\n                                Pipeline(steps=[('TEXT...  \n",
       "5  (FeatureUnion(transformer_list=[('TEXT',\\n                                Pipeline(steps=[('TEXT...  "
      ]
     },
     "execution_count": 50,
     "metadata": {},
     "output_type": "execute_result"
    }
   ],
   "source": [
    "pipelines = [\n",
    "             Pipeline([\n",
    "                       ('FU', features_union),\n",
    "                       ('DC', DummyClassifier())\n",
    "                      ]),\n",
    "\n",
    "             Pipeline([\n",
    "                       ('FU', features_union),\n",
    "                       ('LR', LogisticRegression(random_state=RS))\n",
    "                      ]),\n",
    "\n",
    "             Pipeline([\n",
    "                       ('FU', features_union),\n",
    "                       ('RC', RidgeClassifier(random_state=RS))\n",
    "                      ]),\n",
    "\n",
    "             Pipeline([\n",
    "                       ('FU', features_union),\n",
    "                       ('SGDC', SGDClassifier(random_state=RS))\n",
    "                      ]),\n",
    "\n",
    "             Pipeline([\n",
    "                       ('FU', features_union),\n",
    "                       ('LSVC', LinearSVC(random_state=RS))\n",
    "                      ]),\n",
    "    \n",
    "             Pipeline([\n",
    "                       ('FU', features_union),\n",
    "                       ('XGBC', XGBClassifier(objective='binary:logistic', eval_metric='auc', random_state=RS))\n",
    "                      ]),\n",
    "            ]\n",
    "\n",
    "names = ['DummyClassifier', 'LogisticRegression', 'RidgeClassifier', 'SGDClassifier', 'LinearSVC', 'XGBClassifier']\n",
    "\n",
    "short_names = ['DC', 'LR', 'RC', 'SGDC', 'LSVC', 'XGBC']\n",
    "\n",
    "models = pd.DataFrame(\n",
    "                      data={'name': names,\n",
    "                            'short_name': short_names,\n",
    "                            'model': pipelines,\n",
    "                           },\n",
    "                     )\n",
    "models"
   ]
  },
  {
   "cell_type": "markdown",
   "id": "dc628a95",
   "metadata": {},
   "source": [
    "В таблице моделей необходимо оставить только те, что есть в списке ESTIMATOR_LIST (то есть удалить лишние)."
   ]
  },
  {
   "cell_type": "code",
   "execution_count": 51,
   "id": "e3cf3193",
   "metadata": {},
   "outputs": [
    {
     "data": {
      "text/html": [
       "<div>\n",
       "<style scoped>\n",
       "    .dataframe tbody tr th:only-of-type {\n",
       "        vertical-align: middle;\n",
       "    }\n",
       "\n",
       "    .dataframe tbody tr th {\n",
       "        vertical-align: top;\n",
       "    }\n",
       "\n",
       "    .dataframe thead th {\n",
       "        text-align: right;\n",
       "    }\n",
       "</style>\n",
       "<table border=\"1\" class=\"dataframe\">\n",
       "  <thead>\n",
       "    <tr style=\"text-align: left;\">\n",
       "      <th></th>\n",
       "      <th>name</th>\n",
       "      <th>short_name</th>\n",
       "      <th>model</th>\n",
       "    </tr>\n",
       "  </thead>\n",
       "  <tbody>\n",
       "    <tr>\n",
       "      <th>0</th>\n",
       "      <td>LogisticRegression</td>\n",
       "      <td>LR</td>\n",
       "      <td>(FeatureUnion(transformer_list=[('TEXT',\\n                                Pipeline(steps=[('TEXT...</td>\n",
       "    </tr>\n",
       "    <tr>\n",
       "      <th>1</th>\n",
       "      <td>RidgeClassifier</td>\n",
       "      <td>RC</td>\n",
       "      <td>(FeatureUnion(transformer_list=[('TEXT',\\n                                Pipeline(steps=[('TEXT...</td>\n",
       "    </tr>\n",
       "    <tr>\n",
       "      <th>2</th>\n",
       "      <td>SGDClassifier</td>\n",
       "      <td>SGDC</td>\n",
       "      <td>(FeatureUnion(transformer_list=[('TEXT',\\n                                Pipeline(steps=[('TEXT...</td>\n",
       "    </tr>\n",
       "    <tr>\n",
       "      <th>3</th>\n",
       "      <td>LinearSVC</td>\n",
       "      <td>LSVC</td>\n",
       "      <td>(FeatureUnion(transformer_list=[('TEXT',\\n                                Pipeline(steps=[('TEXT...</td>\n",
       "    </tr>\n",
       "  </tbody>\n",
       "</table>\n",
       "</div>"
      ],
      "text/plain": [
       "  name                short_name  \\\n",
       "0  LogisticRegression    LR        \n",
       "1     RidgeClassifier    RC        \n",
       "2       SGDClassifier  SGDC        \n",
       "3           LinearSVC  LSVC        \n",
       "\n",
       "  model                                                                                                 \n",
       "0  (FeatureUnion(transformer_list=[('TEXT',\\n                                Pipeline(steps=[('TEXT...  \n",
       "1  (FeatureUnion(transformer_list=[('TEXT',\\n                                Pipeline(steps=[('TEXT...  \n",
       "2  (FeatureUnion(transformer_list=[('TEXT',\\n                                Pipeline(steps=[('TEXT...  \n",
       "3  (FeatureUnion(transformer_list=[('TEXT',\\n                                Pipeline(steps=[('TEXT...  "
      ]
     },
     "execution_count": 51,
     "metadata": {},
     "output_type": "execute_result"
    }
   ],
   "source": [
    "for item in range(models.shape[0]):\n",
    "    if models.loc[item,'name'] not in ESTIMATOR_LIST:\n",
    "        models = models.drop(item, axis=0)\n",
    "        \n",
    "models = models.reset_index(drop=True)\n",
    "\n",
    "models"
   ]
  },
  {
   "cell_type": "markdown",
   "id": "4df1bf50",
   "metadata": {},
   "source": [
    "### Подбор гиперпараметров"
   ]
  },
  {
   "cell_type": "markdown",
   "id": "2e03ace3",
   "metadata": {},
   "source": [
    "#### Objective functions для Optuna"
   ]
  },
  {
   "cell_type": "code",
   "execution_count": 52,
   "id": "97711fb0",
   "metadata": {},
   "outputs": [],
   "source": [
    "def objective_DC(trial):\n",
    "\n",
    "    params = {\n",
    "              'DC__strategy': trial.suggest_categorical('DC__strategy', ['most_frequent','prior','stratified','uniform']),\n",
    "             }\n",
    "\n",
    "    model.set_params(**params)\n",
    "    cv_SKF = StratifiedKFold(n_splits=N_CV)\n",
    "    \n",
    "    return cross_val_score(model, X_train, Y_train, scoring=SCORING, cv=cv_SKF, n_jobs=-1).mean()"
   ]
  },
  {
   "cell_type": "code",
   "execution_count": 53,
   "id": "7b4cd8dd",
   "metadata": {},
   "outputs": [],
   "source": [
    "def objective_LR(trial):\n",
    "\n",
    "    params = {\n",
    "              'LR__class_weight': trial.suggest_categorical('LR__class_weight', [None,'balanced']),\n",
    "              'LR__C': trial.suggest_float('LR__C', 0.1, 20.0, log=True),\n",
    "              'LR__max_iter': trial.suggest_int('LR__max_iter', 20, 1000, log=True),\n",
    "#               'FU__TEXT__TFIDF__ngram_range': trial.suggest_categorical('FU__TEXT__TFIDF__ngram_range', [(1,1),(1,2),(2,2)]),\n",
    "             }\n",
    "    \n",
    "    model.set_params(**params)\n",
    "    cv_SKF = StratifiedKFold(n_splits=N_CV)\n",
    "    \n",
    "    return cross_val_score(model, X_train, Y_train, scoring=SCORING, cv=cv_SKF, n_jobs=-1).mean()"
   ]
  },
  {
   "cell_type": "code",
   "execution_count": 54,
   "id": "227692e6",
   "metadata": {},
   "outputs": [],
   "source": [
    "def objective_RC(trial):\n",
    "\n",
    "    params = {\n",
    "              'RC__alpha': trial.suggest_float('RC__alpha', 0.1, 10.0, log=True),\n",
    "              'RC__class_weight': trial.suggest_categorical('RC__class_weight', [None,'balanced']),\n",
    "              'RC__max_iter': trial.suggest_int('RC__max_iter', 100, 1000, log=True),\n",
    "             }\n",
    "    \n",
    "    model.set_params(**params)\n",
    "    cv_SKF = StratifiedKFold(n_splits=N_CV)\n",
    "    \n",
    "    return cross_val_score(model, X_train, Y_train, scoring=SCORING, cv=cv_SKF, n_jobs=-1).mean()"
   ]
  },
  {
   "cell_type": "code",
   "execution_count": 55,
   "id": "99d94266",
   "metadata": {},
   "outputs": [],
   "source": [
    "def objective_SGDC(trial):\n",
    "\n",
    "    params = {\n",
    "              'SGDC__loss': trial.suggest_categorical('SGDC__loss', ['hinge','log_loss']),\n",
    "              'SGDC__alpha': trial.suggest_float('SGDC__alpha', 1e-6, 1e-3, log=True),\n",
    "              'SGDC__class_weight': trial.suggest_categorical('SGDC__class_weight', [None,'balanced']),\n",
    "              'SGDC__max_iter': trial.suggest_int('SGDC__max_iter', 100, 1000, log=True),\n",
    "             }\n",
    "    \n",
    "    model.set_params(**params)\n",
    "    cv_SKF = StratifiedKFold(n_splits=5)\n",
    "    \n",
    "    return cross_val_score(model, X_train, Y_train, scoring=SCORING, cv=cv_SKF, n_jobs=-1).mean()"
   ]
  },
  {
   "cell_type": "code",
   "execution_count": 56,
   "id": "2708f994",
   "metadata": {},
   "outputs": [],
   "source": [
    "def objective_LSVC(trial):\n",
    "\n",
    "    params = {\n",
    "              'LSVC__C': trial.suggest_float('LSVC__C', 0.01, 5),\n",
    "              'LSVC__class_weight': trial.suggest_categorical('LSVC__class_weight', [None,'balanced']),\n",
    "              'LSVC__max_iter': trial.suggest_int('LSVC__max_iter', 100, 2000, log=True),\n",
    "              'LSVC__dual': trial.suggest_categorical('LSVC__dual', [True, False]),\n",
    "             }\n",
    "    \n",
    "    model.set_params(**params)\n",
    "    cv_SKF = StratifiedKFold(n_splits=5)\n",
    "    \n",
    "    return cross_val_score(model, X_train, Y_train, scoring=SCORING, cv=cv_SKF, n_jobs=-1).mean()"
   ]
  },
  {
   "cell_type": "code",
   "execution_count": 57,
   "id": "d9929128",
   "metadata": {},
   "outputs": [],
   "source": [
    "def objective_XGBC(trial):\n",
    "\n",
    "    params = {\n",
    "              'XGBC__max_depth': trial.suggest_int('XGBC__max_depth', 1, 20),\n",
    "              'XGBC__n_estimators': trial.suggest_int('XGBC__n_estimators', 10, 200, log=True),\n",
    "              'XGBC__subsample': trial.suggest_float('XGBC__subsample', 0.3, 1.0),\n",
    "#               'XGBC__colsample_bytree': trial.suggest_float('XGBC__colsample_bytree', 0.3, 1.0),\n",
    "              'XGBC__scale_pos_weight': trial.suggest_float('XGBC__scale_pos_weight', 0.3, 0.7),\n",
    "              'XGBC__learning_rate': trial.suggest_float('XGBC__learning_rate', 0.01, 0.99),\n",
    "              'XGBC__gamma': trial.suggest_float('XGBC__gamma', 0.1, 10, log=True),\n",
    "              'XGBC__min_child_weight': trial.suggest_float('XGBC__min_child_weight', 0.1, 10, log=True),\n",
    "              'XGBC__lambda': trial.suggest_float('XGBC__lambda', 0.1, 10, log=True),\n",
    "#               'XGBC__max_leaves': trial.suggest_int('XGBC__max_leaves', 2, 200, log=True),\n",
    "#               'XGBC__max_bin': trial.suggest_int('XGBC__max_bin', 10, 1000, log=True),\n",
    "             }\n",
    "    model.set_params(**params)\n",
    "    cv_SKF = StratifiedKFold(n_splits=N_CV)\n",
    "    \n",
    "    return cross_val_score(model, X_train, Y_train, scoring=SCORING, cv=cv_SKF, n_jobs=-1).mean()"
   ]
  },
  {
   "cell_type": "markdown",
   "id": "063c91ed",
   "metadata": {},
   "source": [
    "#### Optuna call"
   ]
  },
  {
   "cell_type": "code",
   "execution_count": 58,
   "id": "edb7786c",
   "metadata": {
    "scrolled": false
   },
   "outputs": [
    {
     "name": "stdout",
     "output_type": "stream",
     "text": [
      "————————————————————————————————————————————————————————————\n",
      "\n",
      "LogisticRegression hyperparams tuning...\n"
     ]
    },
    {
     "data": {
      "application/vnd.jupyter.widget-view+json": {
       "model_id": "c0026c01513a492cb3e58d11d040838d",
       "version_major": 2,
       "version_minor": 0
      },
      "text/plain": [
       "  0%|          | 0/100 [00:00<?, ?it/s]"
      ]
     },
     "metadata": {},
     "output_type": "display_data"
    },
    {
     "name": "stdout",
     "output_type": "stream",
     "text": [
      "\n",
      "\u001b[1mLogisticRegression\u001b[0m\n",
      "\n",
      "Количество попыток: 50\n",
      "Лучший результат: \u001b[1m0.7704\u001b[0m\n",
      "\n",
      "Комбинация гиперпараметров:\n",
      "{\n",
      " \"LR__C\": 16.667002659372816,\n",
      " \"LR__class_weight\": null,\n",
      " \"LR__max_iter\": 171\n",
      "} \n",
      "\n",
      "————————————————————————————————————————————————————————————\n",
      "\n",
      "RidgeClassifier hyperparams tuning...\n"
     ]
    },
    {
     "data": {
      "application/vnd.jupyter.widget-view+json": {
       "model_id": "e267da9c4fb5452bafae0d0038e234bc",
       "version_major": 2,
       "version_minor": 0
      },
      "text/plain": [
       "  0%|          | 0/100 [00:00<?, ?it/s]"
      ]
     },
     "metadata": {},
     "output_type": "display_data"
    },
    {
     "name": "stdout",
     "output_type": "stream",
     "text": [
      "\n",
      "\u001b[1mRidgeClassifier\u001b[0m\n",
      "\n",
      "Количество попыток: 73\n",
      "Лучший результат: \u001b[1m0.7038\u001b[0m\n",
      "\n",
      "Комбинация гиперпараметров:\n",
      "{\n",
      " \"RC__alpha\": 6.4295491609579045,\n",
      " \"RC__class_weight\": \"balanced\",\n",
      " \"RC__max_iter\": 123\n",
      "} \n",
      "\n",
      "————————————————————————————————————————————————————————————\n",
      "\n",
      "SGDClassifier hyperparams tuning...\n"
     ]
    },
    {
     "data": {
      "application/vnd.jupyter.widget-view+json": {
       "model_id": "0806c190b5c7467ebdc73bf5de148e90",
       "version_major": 2,
       "version_minor": 0
      },
      "text/plain": [
       "  0%|          | 0/100 [00:00<?, ?it/s]"
      ]
     },
     "metadata": {},
     "output_type": "display_data"
    },
    {
     "name": "stdout",
     "output_type": "stream",
     "text": [
      "\n",
      "\u001b[1mSGDClassifier\u001b[0m\n",
      "\n",
      "Количество попыток: 100\n",
      "Лучший результат: \u001b[1m0.7746\u001b[0m\n",
      "\n",
      "Комбинация гиперпараметров:\n",
      "{\n",
      " \"SGDC__alpha\": 3.5253668106745235e-06,\n",
      " \"SGDC__class_weight\": null,\n",
      " \"SGDC__loss\": \"hinge\",\n",
      " \"SGDC__max_iter\": 101\n",
      "} \n",
      "\n",
      "————————————————————————————————————————————————————————————\n",
      "\n",
      "LinearSVC hyperparams tuning...\n"
     ]
    },
    {
     "data": {
      "application/vnd.jupyter.widget-view+json": {
       "model_id": "f95c5952ede344bbb37f21cc592020c4",
       "version_major": 2,
       "version_minor": 0
      },
      "text/plain": [
       "  0%|          | 0/100 [00:00<?, ?it/s]"
      ]
     },
     "metadata": {},
     "output_type": "display_data"
    },
    {
     "name": "stdout",
     "output_type": "stream",
     "text": [
      "\n",
      "\u001b[1mLinearSVC\u001b[0m\n",
      "\n",
      "Количество попыток: 100\n",
      "Лучший результат: \u001b[1m0.7735\u001b[0m\n",
      "\n",
      "Комбинация гиперпараметров:\n",
      "{\n",
      " \"LSVC__C\": 0.7229521114096189,\n",
      " \"LSVC__class_weight\": null,\n",
      " \"LSVC__dual\": false,\n",
      " \"LSVC__max_iter\": 136\n",
      "} \n",
      "\n"
     ]
    }
   ],
   "source": [
    "for item in range(models.shape[0]):\n",
    "    \n",
    "    print('—' * 60)\n",
    "    print(f\"{CR}{models.loc[item,'name']} hyperparams tuning...\")\n",
    "    \n",
    "    model = models.loc[item,'model']\n",
    "\n",
    "    # создание объекта optuna.study\n",
    "    study = optuna.create_study(\n",
    "                                study_name=models.loc[item,'name'],\n",
    "                                direction=\"maximize\",\n",
    "                                sampler=optuna.samplers.TPESampler(seed=RS)\n",
    "                               )\n",
    "\n",
    "    # оптимизация (подбор гиперпараметров)\n",
    "    study.optimize(eval(f\"objective_{models.loc[item,'short_name']}\"),\n",
    "                   n_trials=N_TRIALS, timeout=TIMEOUT, show_progress_bar=True, n_jobs=-1)\n",
    "\n",
    "    # извлечение и обучение лучшей модели – здесь можно сделать обучение на полном наборе данных (X,Y)\n",
    "    model.set_params(**study.best_params).fit(X_train, Y_train)\n",
    "\n",
    "    # сохранение результатов в таблице моделей\n",
    "    models.loc[item,'model'] = model\n",
    "    models.loc[item,'study'] = study\n",
    "#     models.loc[item,'features'] = ', '.join(extract_final_features(model))   # пока недостаточно универсально\n",
    "    models.loc[item,'score'] = study.best_value\n",
    "\n",
    "    print(f'{CR}{f.BOLD}{study.study_name}{f.END}{CR}')\n",
    "    print(f'Количество попыток: {len(study.trials)}')\n",
    "    print(f'Лучший результат: {f.BOLD}{study.best_value:0.4f}{f.END}{CR}')\n",
    "    print('Комбинация гиперпараметров:')\n",
    "    print(json.dumps(study.best_params, indent=1, sort_keys=True), f'{CR}')"
   ]
  },
  {
   "cell_type": "markdown",
   "id": "62fb5287",
   "metadata": {},
   "source": [
    "#### Визуализация результатов подбора гиперпараметров\n",
    "\n",
    "Помогает cкорректировать процесс подбора."
   ]
  },
  {
   "cell_type": "code",
   "execution_count": 59,
   "id": "fbb3532b",
   "metadata": {
    "scrolled": false
   },
   "outputs": [],
   "source": [
    "# for item in range(models.shape[0]):\n",
    "#     plot_Optuna(models.loc[item,'study'], 'plot_slice', models.loc[item, 'name'])\n",
    "#     plot_Optuna(models.loc[item,'study'], 'plot_param_importances', models.loc[item, 'name'])\n",
    "#     plot_Optuna(models.loc[item,'study'], 'plot_optimization_history', models.loc[item, 'name'])"
   ]
  },
  {
   "cell_type": "markdown",
   "id": "892e6716",
   "metadata": {},
   "source": [
    "## Анализ моделей"
   ]
  },
  {
   "cell_type": "markdown",
   "id": "cb01efc7",
   "metadata": {},
   "source": [
    "### Additional metrics\n",
    "\n",
    "В дополнение к основной метрике, полученной во время подбора гиперпараметров, можно сравнить дополнительные метрики.  \n",
    "Метрики рассчитываются как для обучающей, так и валидационной выборки."
   ]
  },
  {
   "cell_type": "code",
   "execution_count": 60,
   "id": "b02af597",
   "metadata": {
    "scrolled": false
   },
   "outputs": [
    {
     "name": "stdout",
     "output_type": "stream",
     "text": [
      "Performing cross_val_score with cv=10 and scoring_list=['f1', 'recall', 'precision', 'accuracy']:\n",
      "f1_train... done\n",
      "f1_test... done\n",
      "recall_train... done\n",
      "recall_test... done\n",
      "precision_train... done\n",
      "precision_test... done\n",
      "accuracy_train... done\n",
      "accuracy_test... done\n",
      "CPU times: total: 20.7 s\n",
      "Wall time: 4min 42s\n"
     ]
    },
    {
     "data": {
      "text/html": [
       "<div>\n",
       "<style scoped>\n",
       "    .dataframe tbody tr th:only-of-type {\n",
       "        vertical-align: middle;\n",
       "    }\n",
       "\n",
       "    .dataframe tbody tr th {\n",
       "        vertical-align: top;\n",
       "    }\n",
       "\n",
       "    .dataframe thead th {\n",
       "        text-align: right;\n",
       "    }\n",
       "</style>\n",
       "<table border=\"1\" class=\"dataframe\">\n",
       "  <thead>\n",
       "    <tr style=\"text-align: left;\">\n",
       "      <th></th>\n",
       "      <th>name</th>\n",
       "      <th>score</th>\n",
       "      <th>f1_train</th>\n",
       "      <th>f1_test</th>\n",
       "      <th>recall_train</th>\n",
       "      <th>recall_test</th>\n",
       "      <th>precision_train</th>\n",
       "      <th>precision_test</th>\n",
       "      <th>accuracy_train</th>\n",
       "      <th>accuracy_test</th>\n",
       "    </tr>\n",
       "  </thead>\n",
       "  <tbody>\n",
       "    <tr>\n",
       "      <th>0</th>\n",
       "      <td>SGDClassifier</td>\n",
       "      <td>0.775</td>\n",
       "      <td>0.776</td>\n",
       "      <td>0.744</td>\n",
       "      <td>0.709</td>\n",
       "      <td>0.685</td>\n",
       "      <td>0.858</td>\n",
       "      <td>0.814</td>\n",
       "      <td>0.959</td>\n",
       "      <td>0.952</td>\n",
       "    </tr>\n",
       "    <tr>\n",
       "      <th>1</th>\n",
       "      <td>LinearSVC</td>\n",
       "      <td>0.773</td>\n",
       "      <td>0.773</td>\n",
       "      <td>0.748</td>\n",
       "      <td>0.687</td>\n",
       "      <td>0.645</td>\n",
       "      <td>0.885</td>\n",
       "      <td>0.890</td>\n",
       "      <td>0.959</td>\n",
       "      <td>0.956</td>\n",
       "    </tr>\n",
       "    <tr>\n",
       "      <th>2</th>\n",
       "      <td>LogisticRegression</td>\n",
       "      <td>0.770</td>\n",
       "      <td>0.770</td>\n",
       "      <td>0.743</td>\n",
       "      <td>0.693</td>\n",
       "      <td>0.648</td>\n",
       "      <td>0.868</td>\n",
       "      <td>0.872</td>\n",
       "      <td>0.958</td>\n",
       "      <td>0.955</td>\n",
       "    </tr>\n",
       "    <tr>\n",
       "      <th>3</th>\n",
       "      <td>RidgeClassifier</td>\n",
       "      <td>0.704</td>\n",
       "      <td>0.704</td>\n",
       "      <td>0.698</td>\n",
       "      <td>0.816</td>\n",
       "      <td>0.785</td>\n",
       "      <td>0.619</td>\n",
       "      <td>0.629</td>\n",
       "      <td>0.930</td>\n",
       "      <td>0.931</td>\n",
       "    </tr>\n",
       "  </tbody>\n",
       "</table>\n",
       "</div>"
      ],
      "text/plain": [
       "  name                 score  f1_train  f1_test  recall_train  recall_test  \\\n",
       "0       SGDClassifier 0.775  0.776     0.744    0.709         0.685          \n",
       "1           LinearSVC 0.773  0.773     0.748    0.687         0.645          \n",
       "2  LogisticRegression 0.770  0.770     0.743    0.693         0.648          \n",
       "3     RidgeClassifier 0.704  0.704     0.698    0.816         0.785          \n",
       "\n",
       "   precision_train  precision_test  accuracy_train  accuracy_test  \n",
       "0 0.858            0.814           0.959           0.952           \n",
       "1 0.885            0.890           0.959           0.956           \n",
       "2 0.868            0.872           0.958           0.955           \n",
       "3 0.619            0.629           0.930           0.931           "
      ]
     },
     "execution_count": 60,
     "metadata": {},
     "output_type": "execute_result"
    }
   ],
   "source": [
    "%%time\n",
    "\n",
    "# дополнительные метрики моделей\n",
    "models = add_model_metrics(models, X_train, Y_train, X_valid, Y_valid, cv=N_CV,\n",
    "                           scoring_list=['f1','recall','precision','accuracy'])\n",
    "\n",
    "models.drop(['short_name','model','study','best_params'], axis=1).sort_values('score', ascending=False).reset_index(drop=True)"
   ]
  },
  {
   "cell_type": "markdown",
   "id": "3a6e993c",
   "metadata": {},
   "source": [
    "> Три модели показали близкие результаты в пределах погрешности и одна заметно отстала.  \n",
    "> \n",
    "> Это если оценивать модели по метрике `f1` (как указано в задании).  \n",
    "> Однако дополнительные метрики говорят, что результат не столь однозначен.  \n",
    "> У лидеров высокое значение метрики `precision`, но ощутимо страдает `recall`. Учитывая существенный дисбаланс классов, вероятно, эти модели склонны делать прогноз в сторону более крупного класса `toxic=0`. Отстающая модель, напротив, чаще склонна делать прогноз в сторону малого класса `toxic=1`.\n",
    ">\n",
    "> Учитывая суть задачи (модерация токсичных текстов), вероятно, более важным для заказчика является не пропустить токсичные тексты. То есть предпочтительнее метрика `recall`.  \n",
    "> Сейчас она выше у самой слабой (по метрике `f1`) модели. Возможно, если для оптимизации задать метрику `recall`, другие модели тоже изменять свое поведение."
   ]
  },
  {
   "cell_type": "markdown",
   "id": "1b19fe00",
   "metadata": {},
   "source": [
    "### Confusion Matrix Display"
   ]
  },
  {
   "cell_type": "code",
   "execution_count": 61,
   "id": "908ae3d5",
   "metadata": {
    "scrolled": false
   },
   "outputs": [
    {
     "data": {
      "image/png": "[encoded data removed]",
      "text/plain": [
       "<Figure size 2700x750 with 4 Axes>"
      ]
     },
     "metadata": {},
     "output_type": "display_data"
    }
   ],
   "source": [
    "n_plot = models.shape[0]\n",
    "\n",
    "fig, ax = plt.subplots(figsize=(18,5), ncols=n_plot, dpi=PLOT_DPI)\n",
    "fig.suptitle('Confusion Matrix', fontsize=20)\n",
    "\n",
    "for item in range(models.shape[0]):\n",
    "    \n",
    "    ConfusionMatrixDisplay.from_estimator(models.loc[item,'model'].fit(X_train, Y_train),\n",
    "                                          X_valid, Y_valid,\n",
    "                                          ax=ax[item], colorbar=False, cmap='Blues')\n",
    "    ax[item].set_title(f\"{models.loc[item,'name']}\")"
   ]
  },
  {
   "cell_type": "markdown",
   "id": "9e9c39ad",
   "metadata": {},
   "source": [
    "> Наглядный анализ в продолжение вывода предыдущего раздела.\n",
    ">\n",
    "> Отстающая (по метрике `f1`) модель показала наибольшее количество правильных прогнозов для класса `toxic=1`, ценой некоторого снижения точности прогноза.\n",
    "> \n",
    "> Возможно, заказчику больше подходит более полное выявление токсичных текстов при несколько большем объеме модерации.\n",
    ">\n",
    "> Оптимизация моделей с метрикой `recall` может улучшить выявление токсичных текстов, не увеличивая объема модерации."
   ]
  },
  {
   "cell_type": "markdown",
   "id": "3d53a701",
   "metadata": {},
   "source": [
    "### Class Prediction Error"
   ]
  },
  {
   "cell_type": "code",
   "execution_count": 62,
   "id": "949e1e7b",
   "metadata": {},
   "outputs": [
    {
     "data": {
      "image/png": "[encoded data removed]",
      "text/plain": [
       "<Figure size 2700x900 with 4 Axes>"
      ]
     },
     "metadata": {},
     "output_type": "display_data"
    }
   ],
   "source": [
    "n_plot = models.shape[0]\n",
    "\n",
    "fig, ax = plt.subplots(figsize=(18,6), ncols=n_plot, dpi=PLOT_DPI, sharey=True)\n",
    "fig.suptitle('Class Prediction Error', fontsize=20)\n",
    "\n",
    "for item in range(n_plot):\n",
    "    viz = ClassPredictionError(\n",
    "                               models.loc[item,'model'].fit(X_train, Y_train),\n",
    "                               classes=sorted(Y_train.unique()),  # тонкий момент: правильно вынуть названия классов\n",
    "                               ax=ax[item],\n",
    "                              )\n",
    "    viz.fit(X_train, Y_train)\n",
    "    viz.score(X_valid, Y_valid)\n",
    "    ax[item].grid(False)    \n",
    "    ax[item].set_title(f\"{models.loc[item,'name']}\")\n",
    "    \n",
    "plt.show()"
   ]
  },
  {
   "cell_type": "markdown",
   "id": "9c92cbee",
   "metadata": {},
   "source": [
    "> Для визуальной оценки, сколько токсичных текстов пропускает каждая из моделей, и на сколько увеличивается объем модерации текстов, определенных как токсичные."
   ]
  },
  {
   "cell_type": "markdown",
   "id": "ac9b3ddb",
   "metadata": {},
   "source": [
    "### Выбор лучшей модели"
   ]
  },
  {
   "cell_type": "code",
   "execution_count": 63,
   "id": "f3734185",
   "metadata": {},
   "outputs": [],
   "source": [
    "SCORE_FIELD = 'score'      # название поля для выбора лучшей модели\n",
    "LESS_IS_BETTER = False     # для направления сортировки\n",
    "\n",
    "# название модели с лучшим score, полученным при кроссвалидации\n",
    "best_model_name = models.sort_values(SCORE_FIELD, ascending=LESS_IS_BETTER).reset_index(drop=True).loc[0,'name']\n",
    "\n",
    "# выбор модели из таблицы\n",
    "model = models[models.name == best_model_name].model.values[0]"
   ]
  },
  {
   "cell_type": "code",
   "execution_count": 64,
   "id": "9468da93",
   "metadata": {},
   "outputs": [
    {
     "data": {
      "text/plain": [
       "'SGDClassifier'"
      ]
     },
     "execution_count": 64,
     "metadata": {},
     "output_type": "execute_result"
    }
   ],
   "source": [
    "best_model_name"
   ]
  },
  {
   "cell_type": "markdown",
   "id": "d8c49a50",
   "metadata": {},
   "source": [
    "---"
   ]
  },
  {
   "cell_type": "markdown",
   "id": "72e2b353",
   "metadata": {},
   "source": [
    "## Вывод"
   ]
  },
  {
   "cell_type": "markdown",
   "id": "a634a8e6",
   "metadata": {},
   "source": [
    "### Краткий обзор проделанной работы\n",
    "\n",
    "1. Проведено первичное исследование данных.\n",
    "1. Выполнен краткий анализ корректности разметки данных.\n",
    "1. Подготовлены данные для модели.\n",
    "1. Созданы и сравнены несколько моделей.\n",
    "1. Проанализировано качество моделей.\n",
    "1. Даны рекомендации для дальнейшего развития проекта."
   ]
  },
  {
   "cell_type": "markdown",
   "id": "792cbf87",
   "metadata": {},
   "source": [
    "### Проверка и подготовка данных\n",
    "\n",
    "Исправлено небольшое количество ошибок в данных. Например, иногда в данные попадают служебные сообщения, есть некоторое количество неявных дубликатов.\n",
    "\n",
    "Выполнена краткая проверка корректности разметки данных.  \n",
    "Выявлено, что есть тексты с чрезмерным употреблением восклицательного знака, вопросительного знака и заглавных букв, которые не отмечены как токсичные. Выборочный просмотр показал, что есть тексты агрессивной тональности, также не отмеченные как токсичные. Всего такие тексты составляют не менее 6% данных. При более углубленном анализе количество ошибок в разметке может оказаться еще больше.\n",
    "\n",
    "Созданы новые признаки, но ввиду большого количества ошибок в разметке данных они не были использованы при моделировании. В то же время, эти признаки можно использовать для коррекции разметки данных.\n",
    "\n",
    "Тексты очищены от лишних символов, токенизированы и лемматизированы."
   ]
  },
  {
   "cell_type": "markdown",
   "id": "ce168ce5",
   "metadata": {},
   "source": [
    "### Моделирование\n",
    "\n",
    "Ключевую роль в пайплайнах моделей играет TF-IDF-преобразование данных.\n",
    "\n",
    "Для дальнейшего развития проекта в пайплайн заложена возможность использования новых признаков.\n",
    "\n",
    "Было протестировано применение n-gram (1,1), (1,2) и (2,2). Улучшения это не принесло при существенном падении скорости обучения моделей.\n",
    "\n",
    "В результате 3 модели показали очень близкие результаты по заданной метрике `f1`. Однако есть определенные сомнения, что данная метрика соответствует потребностям заказчика. Если для заказчика важнее полное выявление токсичных текстов, то для оптимизации моделей рекомендуется использовать метрику `recall`."
   ]
  },
  {
   "cell_type": "markdown",
   "id": "9e0a0907",
   "metadata": {},
   "source": [
    "### Риски и рекомендации\n",
    "\n",
    "1. Содержание входных данных никак не вяжется с фразой \"*Интернет-магазин «Викишоп» запускает новый сервис*\". Поэтому проблематично извлечь из данных дополнительную информацию, которая помогла бы в решении задачи. Например, определить критерии токсичности.\n",
    "1. Не определены критерии токсичности. Это затрудняет проверку качества разметки данных.\n",
    "1. Разметка данных содержит очевидные ошибки (даже несмотря на отсутствие критериев токсичности). Улучшение качества разметки — самый очевидный способ повышения качества модели.\n",
    "1. Имея критерии токсичности можно создать новые признаки для повышения качества модели. Кроме того, их можно использовать для исправления ошибок в разметке данных.\n",
    "1. В данных есть существенный дисбаланс классов. Прежде, чем решать эту проблему, следует, насколько возможно, исправить ошибки разметки данных. После этого проблема дисбаланса может заметно ослабнуть.\n",
    "1. На фоне дисбаланса классов особенно заметен неправильный выбор метрики. Вероятно, для целей заказчика лучше подойдет использование метрики `recall`.\n",
    "1. Для подготовки данных можно применить более продвинутые методы обработки текстов: **SpaCy, BERT**."
   ]
  }
 ],
 "metadata": {
  "kernelspec": {
   "display_name": "Python 3 (ipykernel)",
   "language": "python",
   "name": "python3"
  },
  "language_info": {
   "codemirror_mode": {
    "name": "ipython",
    "version": 3
   },
   "file_extension": ".py",
   "mimetype": "text/x-python",
   "name": "python",
   "nbconvert_exporter": "python",
   "pygments_lexer": "ipython3",
   "version": "3.8.13"
  },
  "nbTranslate": {
   "displayLangs": [
    "en",
    "ru"
   ],
   "hotkey": "alt-t",
   "langInMainMenu": false,
   "sourceLang": "ru",
   "targetLang": "en",
   "useGoogleTranslate": true
  },
  "toc": {
   "base_numbering": "0",
   "nav_menu": {},
   "number_sections": true,
   "sideBar": true,
   "skip_h1_title": true,
   "title_cell": "Contents",
   "title_sidebar": "Contents",
   "toc_cell": true,
   "toc_position": {
    "height": "calc(100% - 180px)",
    "left": "10px",
    "top": "150px",
    "width": "262.8px"
   },
   "toc_section_display": true,
   "toc_window_display": true
  },
  "vscode": {
   "interpreter": {
    "hash": "2f9d6cf1e3d8195079a65c851de355134a77367bcd714b1a5d498c42d3c07114"
   }
  }
 },
 "nbformat": 4,
 "nbformat_minor": 5
}
